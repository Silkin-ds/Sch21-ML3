{
  "nbformat": 4,
  "nbformat_minor": 0,
  "metadata": {
    "colab": {
      "provenance": []
    },
    "kernelspec": {
      "name": "python3",
      "display_name": "Python 3"
    },
    "language_info": {
      "name": "python"
    },
    "widgets": {
      "application/vnd.jupyter.widget-state+json": {
        "fb6207d841f34d22b7d0c99125c31985": {
          "model_module": "@jupyter-widgets/controls",
          "model_name": "HBoxModel",
          "model_module_version": "1.5.0",
          "state": {
            "_dom_classes": [],
            "_model_module": "@jupyter-widgets/controls",
            "_model_module_version": "1.5.0",
            "_model_name": "HBoxModel",
            "_view_count": null,
            "_view_module": "@jupyter-widgets/controls",
            "_view_module_version": "1.5.0",
            "_view_name": "HBoxView",
            "box_style": "",
            "children": [
              "IPY_MODEL_5f4f61fe8e294b52b9ba0dfd2f640e47",
              "IPY_MODEL_17ab44153dcb4296bd5f67535cfef2a3",
              "IPY_MODEL_00ba357c75aa4aef9ff0039777b954e6"
            ],
            "layout": "IPY_MODEL_f99aa1111a1d4e25b2a20741ba5f398a"
          }
        },
        "5f4f61fe8e294b52b9ba0dfd2f640e47": {
          "model_module": "@jupyter-widgets/controls",
          "model_name": "HTMLModel",
          "model_module_version": "1.5.0",
          "state": {
            "_dom_classes": [],
            "_model_module": "@jupyter-widgets/controls",
            "_model_module_version": "1.5.0",
            "_model_name": "HTMLModel",
            "_view_count": null,
            "_view_module": "@jupyter-widgets/controls",
            "_view_module_version": "1.5.0",
            "_view_name": "HTMLView",
            "description": "",
            "description_tooltip": null,
            "layout": "IPY_MODEL_3a99e40c23ec4a58924ace2ce23e70cd",
            "placeholder": "​",
            "style": "IPY_MODEL_15c15bfa042b4f2e80d19fddb19cef05",
            "value": "Best trial: 16. Best value: 0.60235: 100%"
          }
        },
        "17ab44153dcb4296bd5f67535cfef2a3": {
          "model_module": "@jupyter-widgets/controls",
          "model_name": "FloatProgressModel",
          "model_module_version": "1.5.0",
          "state": {
            "_dom_classes": [],
            "_model_module": "@jupyter-widgets/controls",
            "_model_module_version": "1.5.0",
            "_model_name": "FloatProgressModel",
            "_view_count": null,
            "_view_module": "@jupyter-widgets/controls",
            "_view_module_version": "1.5.0",
            "_view_name": "ProgressView",
            "bar_style": "success",
            "description": "",
            "description_tooltip": null,
            "layout": "IPY_MODEL_89222c3d2dc5422d8eefb3b744c90575",
            "max": 100,
            "min": 0,
            "orientation": "horizontal",
            "style": "IPY_MODEL_4fa9fd86e7b249188278d6f0100fb719",
            "value": 100
          }
        },
        "00ba357c75aa4aef9ff0039777b954e6": {
          "model_module": "@jupyter-widgets/controls",
          "model_name": "HTMLModel",
          "model_module_version": "1.5.0",
          "state": {
            "_dom_classes": [],
            "_model_module": "@jupyter-widgets/controls",
            "_model_module_version": "1.5.0",
            "_model_name": "HTMLModel",
            "_view_count": null,
            "_view_module": "@jupyter-widgets/controls",
            "_view_module_version": "1.5.0",
            "_view_name": "HTMLView",
            "description": "",
            "description_tooltip": null,
            "layout": "IPY_MODEL_f412ec52efe948efa05c57144114e3e8",
            "placeholder": "​",
            "style": "IPY_MODEL_cf2ae320d9f84a35be701a333cd81b88",
            "value": " 100/100 [02:07&lt;00:00,  1.30s/it]"
          }
        },
        "f99aa1111a1d4e25b2a20741ba5f398a": {
          "model_module": "@jupyter-widgets/base",
          "model_name": "LayoutModel",
          "model_module_version": "1.2.0",
          "state": {
            "_model_module": "@jupyter-widgets/base",
            "_model_module_version": "1.2.0",
            "_model_name": "LayoutModel",
            "_view_count": null,
            "_view_module": "@jupyter-widgets/base",
            "_view_module_version": "1.2.0",
            "_view_name": "LayoutView",
            "align_content": null,
            "align_items": null,
            "align_self": null,
            "border": null,
            "bottom": null,
            "display": null,
            "flex": null,
            "flex_flow": null,
            "grid_area": null,
            "grid_auto_columns": null,
            "grid_auto_flow": null,
            "grid_auto_rows": null,
            "grid_column": null,
            "grid_gap": null,
            "grid_row": null,
            "grid_template_areas": null,
            "grid_template_columns": null,
            "grid_template_rows": null,
            "height": null,
            "justify_content": null,
            "justify_items": null,
            "left": null,
            "margin": null,
            "max_height": null,
            "max_width": null,
            "min_height": null,
            "min_width": null,
            "object_fit": null,
            "object_position": null,
            "order": null,
            "overflow": null,
            "overflow_x": null,
            "overflow_y": null,
            "padding": null,
            "right": null,
            "top": null,
            "visibility": null,
            "width": null
          }
        },
        "3a99e40c23ec4a58924ace2ce23e70cd": {
          "model_module": "@jupyter-widgets/base",
          "model_name": "LayoutModel",
          "model_module_version": "1.2.0",
          "state": {
            "_model_module": "@jupyter-widgets/base",
            "_model_module_version": "1.2.0",
            "_model_name": "LayoutModel",
            "_view_count": null,
            "_view_module": "@jupyter-widgets/base",
            "_view_module_version": "1.2.0",
            "_view_name": "LayoutView",
            "align_content": null,
            "align_items": null,
            "align_self": null,
            "border": null,
            "bottom": null,
            "display": null,
            "flex": null,
            "flex_flow": null,
            "grid_area": null,
            "grid_auto_columns": null,
            "grid_auto_flow": null,
            "grid_auto_rows": null,
            "grid_column": null,
            "grid_gap": null,
            "grid_row": null,
            "grid_template_areas": null,
            "grid_template_columns": null,
            "grid_template_rows": null,
            "height": null,
            "justify_content": null,
            "justify_items": null,
            "left": null,
            "margin": null,
            "max_height": null,
            "max_width": null,
            "min_height": null,
            "min_width": null,
            "object_fit": null,
            "object_position": null,
            "order": null,
            "overflow": null,
            "overflow_x": null,
            "overflow_y": null,
            "padding": null,
            "right": null,
            "top": null,
            "visibility": null,
            "width": null
          }
        },
        "15c15bfa042b4f2e80d19fddb19cef05": {
          "model_module": "@jupyter-widgets/controls",
          "model_name": "DescriptionStyleModel",
          "model_module_version": "1.5.0",
          "state": {
            "_model_module": "@jupyter-widgets/controls",
            "_model_module_version": "1.5.0",
            "_model_name": "DescriptionStyleModel",
            "_view_count": null,
            "_view_module": "@jupyter-widgets/base",
            "_view_module_version": "1.2.0",
            "_view_name": "StyleView",
            "description_width": ""
          }
        },
        "89222c3d2dc5422d8eefb3b744c90575": {
          "model_module": "@jupyter-widgets/base",
          "model_name": "LayoutModel",
          "model_module_version": "1.2.0",
          "state": {
            "_model_module": "@jupyter-widgets/base",
            "_model_module_version": "1.2.0",
            "_model_name": "LayoutModel",
            "_view_count": null,
            "_view_module": "@jupyter-widgets/base",
            "_view_module_version": "1.2.0",
            "_view_name": "LayoutView",
            "align_content": null,
            "align_items": null,
            "align_self": null,
            "border": null,
            "bottom": null,
            "display": null,
            "flex": null,
            "flex_flow": null,
            "grid_area": null,
            "grid_auto_columns": null,
            "grid_auto_flow": null,
            "grid_auto_rows": null,
            "grid_column": null,
            "grid_gap": null,
            "grid_row": null,
            "grid_template_areas": null,
            "grid_template_columns": null,
            "grid_template_rows": null,
            "height": null,
            "justify_content": null,
            "justify_items": null,
            "left": null,
            "margin": null,
            "max_height": null,
            "max_width": null,
            "min_height": null,
            "min_width": null,
            "object_fit": null,
            "object_position": null,
            "order": null,
            "overflow": null,
            "overflow_x": null,
            "overflow_y": null,
            "padding": null,
            "right": null,
            "top": null,
            "visibility": null,
            "width": null
          }
        },
        "4fa9fd86e7b249188278d6f0100fb719": {
          "model_module": "@jupyter-widgets/controls",
          "model_name": "ProgressStyleModel",
          "model_module_version": "1.5.0",
          "state": {
            "_model_module": "@jupyter-widgets/controls",
            "_model_module_version": "1.5.0",
            "_model_name": "ProgressStyleModel",
            "_view_count": null,
            "_view_module": "@jupyter-widgets/base",
            "_view_module_version": "1.2.0",
            "_view_name": "StyleView",
            "bar_color": null,
            "description_width": ""
          }
        },
        "f412ec52efe948efa05c57144114e3e8": {
          "model_module": "@jupyter-widgets/base",
          "model_name": "LayoutModel",
          "model_module_version": "1.2.0",
          "state": {
            "_model_module": "@jupyter-widgets/base",
            "_model_module_version": "1.2.0",
            "_model_name": "LayoutModel",
            "_view_count": null,
            "_view_module": "@jupyter-widgets/base",
            "_view_module_version": "1.2.0",
            "_view_name": "LayoutView",
            "align_content": null,
            "align_items": null,
            "align_self": null,
            "border": null,
            "bottom": null,
            "display": null,
            "flex": null,
            "flex_flow": null,
            "grid_area": null,
            "grid_auto_columns": null,
            "grid_auto_flow": null,
            "grid_auto_rows": null,
            "grid_column": null,
            "grid_gap": null,
            "grid_row": null,
            "grid_template_areas": null,
            "grid_template_columns": null,
            "grid_template_rows": null,
            "height": null,
            "justify_content": null,
            "justify_items": null,
            "left": null,
            "margin": null,
            "max_height": null,
            "max_width": null,
            "min_height": null,
            "min_width": null,
            "object_fit": null,
            "object_position": null,
            "order": null,
            "overflow": null,
            "overflow_x": null,
            "overflow_y": null,
            "padding": null,
            "right": null,
            "top": null,
            "visibility": null,
            "width": null
          }
        },
        "cf2ae320d9f84a35be701a333cd81b88": {
          "model_module": "@jupyter-widgets/controls",
          "model_name": "DescriptionStyleModel",
          "model_module_version": "1.5.0",
          "state": {
            "_model_module": "@jupyter-widgets/controls",
            "_model_module_version": "1.5.0",
            "_model_name": "DescriptionStyleModel",
            "_view_count": null,
            "_view_module": "@jupyter-widgets/base",
            "_view_module_version": "1.2.0",
            "_view_name": "StyleView",
            "description_width": ""
          }
        }
      }
    }
  },
  "cells": [
    {
      "cell_type": "markdown",
      "source": [
        "#1 Ответьте на вопросы из введения"
      ],
      "metadata": {
        "id": "w3ZU1zwJO0wh"
      }
    },
    {
      "cell_type": "markdown",
      "source": [
        "##1.1 Что такое \"оставить все как есть\"? Укажите ограничения и сильные стороны."
      ],
      "metadata": {
        "id": "W68O4RnpO-cc"
      }
    },
    {
      "cell_type": "markdown",
      "source": [
        "###  Leave-One-Out (LOO), или метод скользящего контроля с поочередным исключением одного наблюдения, — это специальный и крайне ресурсоемкий метод кросс-валидации, используемый для оценки качества алгоритмов машинного обучения. Его суть заключается в следующем: если у нас есть набор данных, содержащий N объектов, то мы проводим N отдельных экспериментов. В каждом из них модель обучается на всех данных, кроме одного единственного наблюдения, которое и выступает в роли тестовой выборки. После этого модель делает прогноз для этого отложенного примера, и мы фиксируем результат. Этот процесс повторяется ровно N раз, так что каждый объект исходной выборки ровно один раз становится тестовым. Итоговая оценка модели, будь то точность или средняя квадратичная ошибка, вычисляется как среднее арифметическое всех N полученных результатов.Главная сила этого метода заключается в его минимальном смещении. Поскольку на каждом шаге обучение происходит практически на всей выборке (N-1 пример), оценка ожидаемой ошибки получается очень близкой к той, которую можно было бы получить при обучении на всей генеральной совокупности, что делает метод практически несмещенным. Кроме того, он детерминирован — его результат не зависит от случайного перемешивания данных, как в других типах кросс-валидации, и всегда одинаков для одного и того же набора. Но самое важное достоинство — это максимально эффективное использование данных, что критически важно при работе с очень маленькими выборками, где потеря даже нескольких примеров для обучения существенно сказывается на качестве модели.Однако у метода есть и серьезные ограничения, главный из которых — запредельные вычислительные затраты. Необходимость обучить модель N раз делает его абсолютно непрактичным для больших датасетах; представьте, что для 100 тысяч объектов вам придется обучить модель 100 тысяч раз, что потребует колоссальных вычислительных ресурсов и времени. Второй крупный недостаток — высокая дисперсия получаемой оценки. Поскольку тестовые наборы в каждой итерации сильно пересекаются (на N-2 элементах), а итоговая метрика усредняется по прогнозам для всего одного примера, которые могут быть сильно зашумлены, итоговая оценка оказывается очень неустойчивой. Если бы у нас было много выборок из одной генеральной совокупности, результаты LOO на них сильно бы колебались, что делает метод плохим выбором для сравнения моделей и оценки их стабильности. Таким образом, Leave-One-Out — это узкоспециализированный инструмент, который оправдан только для очень маленьких выборок, где его преимущества перевешивают колоссальные затраты, а для всех остальных случаев предпочтительнее использовать стандартную k-fold кросс-валидацию."
      ],
      "metadata": {
        "id": "191VV7x-PFPB"
      }
    },
    {
      "cell_type": "markdown",
      "source": [
        "##1.2 Как работают поиск по сетке, рандомизированный поиск по сетке и байесовская оптимизация?"
      ],
      "metadata": {
        "id": "822oC-pEPJF1"
      }
    },
    {
      "cell_type": "markdown",
      "source": [
        "### Grid Search (Сетчатый поиск), Randomized Grid Search (Случайный поиск по сетке) и Bayesian Optimization (Байесовская оптимизация) — это три фундаментальных подхода к решению ключевой задачи машинного обучения: настройке гиперпараметров модели. Гиперпараметры, в отличие от параметров, которые модель учит сама (например, веса в линейной регрессии), задаются до начала обучения и управляют этим процессом (например, скорость обучения, глубина дерева, количество нейронов в слое). Цель — найти такую их комбинацию, при которой модель показывает наилучшее качество на независимых данных, то есть обладает наилучшей обобщающей способностью.Grid Search работает по принципу полного перебора. Исследователь вручную задает для каждого гиперпараметра список возможных значений, тем самым формируя «сетку» (grid), где каждый узел — это уникальная комбинация значений. Например, для двух гиперпараметров: learning_rate = [0.01, 0.1, 1] и n_estimators = [50, 100, 200] сетка будет состоять из 3 * 3 = 9 узлов. Далее алгоритм последовательно, друг за другом, обучает и оценивает модель (обычно с помощью кросс-валидации) для каждой комбинации в этой сетке. В итоге выбирается та комбинация, которая показала наилучший результат. Главное преимущество Grid Search — его полнота и надежность: если глобальный оптимум находится внутри заданной сетки, он гарантированно будет найден. Однако его главный и фатальный недостаток — экспоненциальный рост вычислительной сложности с добавлением каждого нового гиперпараметра или возможного значения (так называемое «проклятие размерности»). Это делает его неприменимым для сложных моделей с большим количеством настраиваемых параметров, так как требуются огромные вычислительные ресурсы и время, при этом многие области пространства параметров могут быть заведомо бесполезными.Randomized Grid Search (Случайный поиск) предлагает более эффективную альтернативу. Вместо того чтобы перебирать все узлы заранее заданной сетки, этот алгоритм случайным образом выбирает из нее (или из заданных статистических распределений) фиксированное количество n_iter комбинаций гиперпараметров для проверки. Ключевое преимущество этого подхода было теоретически и практически доказано: для многих задач лишь небольшое количество гиперпараметров действительно критически влияет на конечное качество модели. Полный перебор Grid Search тратит львиную долю ресурсов на «неважные» параметры, в то время как Randomized Search, делая случайные выборки, с гораздо большей вероятностью наткнется на хорошие значения для «важных» параметров, исследовав при этом гораздо больше их уникальных комбинаций за то же количество итераций. Это позволяет добиться сравнимого или даже лучшего результата, чем Grid Search, за существенно меньшее время, делая его предпочтительным выбором на практике для большинства задач средней сложности.Bayesian Optimization (Байесовская оптимизация) представляет собой более интеллектуальный и последовательный подход, кардинально отличающийся от предыдущих двух. Его цель — найти глобальный максимум (или минимум) «черного ящика» (в нашем случае — функции стоимости модели, зависящей от гиперпараметров) за как можно меньшее количество итераций, особенно когда каждая оценка этой функции (обучение модели) очень дорога. Алгоритм работает в два этапа. На первом этапе он строит вероятностную суррогатную модель (чаще всего Gaussian Process — гауссовский процесс) целевой функции, которая аппроксимирует ее поведение на основе уже оцененных точек. Эта модель не только предсказывает значение метрики, но и оценивает неопределенность предсказания в неисследованных областях. На втором этапе используется функция-акквизиция (acquisition function), такая как Expected Improvement (EI) или Upper Confidence Bound (UCB), которая использует предсказания суррогатной модели и их неопределенность, чтобы решить, какую комбинацию гиперпараметров испытать следующей. Функция-акквизиция балансирует между исследованием (exploration) — областями с высокой неопределенностью, где может скрываться лучшее решение, и использованием (exploitation) — областями, где модель уже предсказывает высокое значение целевой функции. Таким образом, байесовская оптимизация — это адаптивный процесс, где каждая следующая точка для оценки выбирается на основе информации, полученной от всех предыдущих. Это делает ее чрезвычайно эффективной для оптимизации гиперпараметров глубоких нейронных сетей и других сложных моделей, где обучение занимает дни или недели, и каждый «прогон» на счету. Ее недостатки — большая алгоритмическая сложность и накладные расходы на поддержание суррогатной модели, которые, однако, несопоставимо малы по сравнению со стоимостью обучения самой модели.В итоге, эволюция этих методов отражает поиск баланса между точностью и вычислительной эффективностью: от гарантированного, но неэффективного Grid Search к более умному стохастическому Randomized Search и далее к интеллектуальному и последовательному Bayesian Optimization, который является стандартом де-факто для решения сложных задач оптимизации в машинном обучении."
      ],
      "metadata": {
        "id": "2mfMHV6lPPsl"
      }
    },
    {
      "cell_type": "markdown",
      "source": [
        "##1.3 Объясните классификацию методов выбора признаков. Объясните, как работают Pearson и Chi2. Объясните, как работает Lasso. Объясните, что такое значение перестановки. Познакомьтесь с SHAP."
      ],
      "metadata": {
        "id": "5k3w2egnPQYC"
      }
    },
    {
      "cell_type": "markdown",
      "source": [
        "### Методы делятся на 3 категории: Filter Methods - оценивают признаки по связи с целевой переменной. Wrapper Methods - используется модель для оценки подмножеств признаков учитывая взаимодействие признаков. Embedded Methods - процесс отбора признаков встроен непосредственно в процесс обучения модели. Корреляция Пирсона измеряет линейную зависимость между двумя переменными. Она возвращает значение от -1 до 1.Мы отбираем признаки с наибольшими по модулю значениями коэффициента (как близкие к 1, так и близкие к -1), так как они сильнее всего влияют на целевую переменную. Недостаток: Не обнаруживает нелинейные зависимости. Хи-квадрат используется для оценки зависимости между категориальными признаками и целевой переменной. Он измеряет насколько наблюдаемые частоты отличаются от ожидаемых. Чем больше значение хи-квадрат, тем сильнее связь между признаком и целевой переменной.Lasso добавляет штраф за абсолютное значение коэффициентов модели. Признаки становятся нулевыми и по сути исключаются. Permutation Importance измеряет, насколько сильно ухудшится производительность модели, если значения одного признака случайным образом перемешать. Если производительность значительно падает, значит, признак важен.SHAP (SHapley Additive exPlanations) — это метод объяснения предсказаний модели, основанный на теории игр (значения Шепли). Он показывает, как каждый признак влияет на предсказание для конкретного объекта."
      ],
      "metadata": {
        "id": "viFcAtzIPZLK"
      }
    },
    {
      "cell_type": "markdown",
      "source": [
        "#2 Введение — выполните всю предварительную обработку из предыдущего урока."
      ],
      "metadata": {
        "id": "7AHJgAzuPhzL"
      }
    },
    {
      "cell_type": "markdown",
      "source": [
        "## Прочитайте все данные."
      ],
      "metadata": {
        "id": "XSyG0_IdPlVR"
      }
    },
    {
      "cell_type": "code",
      "source": [
        "!pip install optuna"
      ],
      "metadata": {
        "colab": {
          "base_uri": "https://localhost:8080/"
        },
        "id": "DBrbz5S_0pta",
        "outputId": "ebd1579b-1eeb-416b-b50c-4afd9611b3b2"
      },
      "execution_count": 1,
      "outputs": [
        {
          "output_type": "stream",
          "name": "stdout",
          "text": [
            "Collecting optuna\n",
            "  Downloading optuna-4.5.0-py3-none-any.whl.metadata (17 kB)\n",
            "Requirement already satisfied: alembic>=1.5.0 in /usr/local/lib/python3.12/dist-packages (from optuna) (1.16.5)\n",
            "Collecting colorlog (from optuna)\n",
            "  Downloading colorlog-6.9.0-py3-none-any.whl.metadata (10 kB)\n",
            "Requirement already satisfied: numpy in /usr/local/lib/python3.12/dist-packages (from optuna) (2.0.2)\n",
            "Requirement already satisfied: packaging>=20.0 in /usr/local/lib/python3.12/dist-packages (from optuna) (25.0)\n",
            "Requirement already satisfied: sqlalchemy>=1.4.2 in /usr/local/lib/python3.12/dist-packages (from optuna) (2.0.43)\n",
            "Requirement already satisfied: tqdm in /usr/local/lib/python3.12/dist-packages (from optuna) (4.67.1)\n",
            "Requirement already satisfied: PyYAML in /usr/local/lib/python3.12/dist-packages (from optuna) (6.0.2)\n",
            "Requirement already satisfied: Mako in /usr/local/lib/python3.12/dist-packages (from alembic>=1.5.0->optuna) (1.3.10)\n",
            "Requirement already satisfied: typing-extensions>=4.12 in /usr/local/lib/python3.12/dist-packages (from alembic>=1.5.0->optuna) (4.15.0)\n",
            "Requirement already satisfied: greenlet>=1 in /usr/local/lib/python3.12/dist-packages (from sqlalchemy>=1.4.2->optuna) (3.2.4)\n",
            "Requirement already satisfied: MarkupSafe>=0.9.2 in /usr/local/lib/python3.12/dist-packages (from Mako->alembic>=1.5.0->optuna) (3.0.2)\n",
            "Downloading optuna-4.5.0-py3-none-any.whl (400 kB)\n",
            "\u001b[2K   \u001b[90m━━━━━━━━━━━━━━━━━━━━━━━━━━━━━━━━━━━━━━━━\u001b[0m \u001b[32m400.9/400.9 kB\u001b[0m \u001b[31m4.1 MB/s\u001b[0m eta \u001b[36m0:00:00\u001b[0m\n",
            "\u001b[?25hDownloading colorlog-6.9.0-py3-none-any.whl (11 kB)\n",
            "Installing collected packages: colorlog, optuna\n",
            "Successfully installed colorlog-6.9.0 optuna-4.5.0\n"
          ]
        }
      ]
    },
    {
      "cell_type": "code",
      "source": [
        "import pandas as pd\n",
        "import numpy as np\n",
        "import shap\n",
        "import math\n",
        "import optuna\n",
        "import logging\n",
        "from collections import Counter\n",
        "from sklearn.model_selection import train_test_split, KFold, GroupKFold, StratifiedKFold, TimeSeriesSplit\n",
        "from sklearn.linear_model import LassoCV, ElasticNet\n",
        "from sklearn.metrics import mean_squared_error, mean_absolute_error, r2_score\n",
        "from sklearn.inspection import permutation_importance\n",
        "from sklearn.model_selection import cross_val_score, GridSearchCV, RandomizedSearchCV"
      ],
      "metadata": {
        "id": "o0hkRhfxogJL"
      },
      "execution_count": 4,
      "outputs": []
    },
    {
      "cell_type": "code",
      "source": [
        "df = pd.read_json('../datasets/train.json')\n",
        "df.head(3)"
      ],
      "metadata": {
        "colab": {
          "base_uri": "https://localhost:8080/",
          "height": 334
        },
        "id": "bFlwdcogq4Pz",
        "outputId": "19f9d410-241b-4608-ca0c-4f2c416bcb86"
      },
      "execution_count": 5,
      "outputs": [
        {
          "output_type": "execute_result",
          "data": {
            "text/plain": [
              "   bathrooms  bedrooms                       building_id              created  \\\n",
              "4        1.0         1  8579a0b0d54db803821a35a4a615e97a  2016-06-16 05:55:27   \n",
              "6        1.0         2  b8e75fc949a6cd8225b455648a951712  2016-06-01 05:44:33   \n",
              "9        1.0         2  cd759a988b8f23924b5a2058d5ab2b49  2016-06-14 15:19:59   \n",
              "\n",
              "                                         description      display_address  \\\n",
              "4  Spacious 1 Bedroom 1 Bathroom in Williamsburg!...  145 Borinquen Place   \n",
              "6  BRAND NEW GUT RENOVATED TRUE 2 BEDROOMFind you...            East 44th   \n",
              "9  **FLEX 2 BEDROOM WITH FULL PRESSURIZED WALL**L...     East 56th Street   \n",
              "\n",
              "                                            features  latitude  listing_id  \\\n",
              "4  [Dining Room, Pre-War, Laundry in Building, Di...   40.7108     7170325   \n",
              "6  [Doorman, Elevator, Laundry in Building, Dishw...   40.7513     7092344   \n",
              "9  [Doorman, Elevator, Laundry in Building, Laund...   40.7575     7158677   \n",
              "\n",
              "   longitude                        manager_id  \\\n",
              "4   -73.9539  a10db4590843d78c784171a107bdacb4   \n",
              "6   -73.9722  955db33477af4f40004820b4aed804a0   \n",
              "9   -73.9625  c8b10a317b766204f08e613cef4ce7a0   \n",
              "\n",
              "                                              photos  price  \\\n",
              "4  [https://photos.renthop.com/2/7170325_3bb5ac84...   2400   \n",
              "6  [https://photos.renthop.com/2/7092344_7663c19a...   3800   \n",
              "9  [https://photos.renthop.com/2/7158677_c897a134...   3495   \n",
              "\n",
              "         street_address interest_level  \n",
              "4   145 Borinquen Place         medium  \n",
              "6         230 East 44th            low  \n",
              "9  405 East 56th Street         medium  "
            ],
            "text/html": [
              "\n",
              "  <div id=\"df-5cdebb89-9e54-4f7c-b6c9-06e19efadef7\" class=\"colab-df-container\">\n",
              "    <div>\n",
              "<style scoped>\n",
              "    .dataframe tbody tr th:only-of-type {\n",
              "        vertical-align: middle;\n",
              "    }\n",
              "\n",
              "    .dataframe tbody tr th {\n",
              "        vertical-align: top;\n",
              "    }\n",
              "\n",
              "    .dataframe thead th {\n",
              "        text-align: right;\n",
              "    }\n",
              "</style>\n",
              "<table border=\"1\" class=\"dataframe\">\n",
              "  <thead>\n",
              "    <tr style=\"text-align: right;\">\n",
              "      <th></th>\n",
              "      <th>bathrooms</th>\n",
              "      <th>bedrooms</th>\n",
              "      <th>building_id</th>\n",
              "      <th>created</th>\n",
              "      <th>description</th>\n",
              "      <th>display_address</th>\n",
              "      <th>features</th>\n",
              "      <th>latitude</th>\n",
              "      <th>listing_id</th>\n",
              "      <th>longitude</th>\n",
              "      <th>manager_id</th>\n",
              "      <th>photos</th>\n",
              "      <th>price</th>\n",
              "      <th>street_address</th>\n",
              "      <th>interest_level</th>\n",
              "    </tr>\n",
              "  </thead>\n",
              "  <tbody>\n",
              "    <tr>\n",
              "      <th>4</th>\n",
              "      <td>1.0</td>\n",
              "      <td>1</td>\n",
              "      <td>8579a0b0d54db803821a35a4a615e97a</td>\n",
              "      <td>2016-06-16 05:55:27</td>\n",
              "      <td>Spacious 1 Bedroom 1 Bathroom in Williamsburg!...</td>\n",
              "      <td>145 Borinquen Place</td>\n",
              "      <td>[Dining Room, Pre-War, Laundry in Building, Di...</td>\n",
              "      <td>40.7108</td>\n",
              "      <td>7170325</td>\n",
              "      <td>-73.9539</td>\n",
              "      <td>a10db4590843d78c784171a107bdacb4</td>\n",
              "      <td>[https://photos.renthop.com/2/7170325_3bb5ac84...</td>\n",
              "      <td>2400</td>\n",
              "      <td>145 Borinquen Place</td>\n",
              "      <td>medium</td>\n",
              "    </tr>\n",
              "    <tr>\n",
              "      <th>6</th>\n",
              "      <td>1.0</td>\n",
              "      <td>2</td>\n",
              "      <td>b8e75fc949a6cd8225b455648a951712</td>\n",
              "      <td>2016-06-01 05:44:33</td>\n",
              "      <td>BRAND NEW GUT RENOVATED TRUE 2 BEDROOMFind you...</td>\n",
              "      <td>East 44th</td>\n",
              "      <td>[Doorman, Elevator, Laundry in Building, Dishw...</td>\n",
              "      <td>40.7513</td>\n",
              "      <td>7092344</td>\n",
              "      <td>-73.9722</td>\n",
              "      <td>955db33477af4f40004820b4aed804a0</td>\n",
              "      <td>[https://photos.renthop.com/2/7092344_7663c19a...</td>\n",
              "      <td>3800</td>\n",
              "      <td>230 East 44th</td>\n",
              "      <td>low</td>\n",
              "    </tr>\n",
              "    <tr>\n",
              "      <th>9</th>\n",
              "      <td>1.0</td>\n",
              "      <td>2</td>\n",
              "      <td>cd759a988b8f23924b5a2058d5ab2b49</td>\n",
              "      <td>2016-06-14 15:19:59</td>\n",
              "      <td>**FLEX 2 BEDROOM WITH FULL PRESSURIZED WALL**L...</td>\n",
              "      <td>East 56th Street</td>\n",
              "      <td>[Doorman, Elevator, Laundry in Building, Laund...</td>\n",
              "      <td>40.7575</td>\n",
              "      <td>7158677</td>\n",
              "      <td>-73.9625</td>\n",
              "      <td>c8b10a317b766204f08e613cef4ce7a0</td>\n",
              "      <td>[https://photos.renthop.com/2/7158677_c897a134...</td>\n",
              "      <td>3495</td>\n",
              "      <td>405 East 56th Street</td>\n",
              "      <td>medium</td>\n",
              "    </tr>\n",
              "  </tbody>\n",
              "</table>\n",
              "</div>\n",
              "    <div class=\"colab-df-buttons\">\n",
              "\n",
              "  <div class=\"colab-df-container\">\n",
              "    <button class=\"colab-df-convert\" onclick=\"convertToInteractive('df-5cdebb89-9e54-4f7c-b6c9-06e19efadef7')\"\n",
              "            title=\"Convert this dataframe to an interactive table.\"\n",
              "            style=\"display:none;\">\n",
              "\n",
              "  <svg xmlns=\"http://www.w3.org/2000/svg\" height=\"24px\" viewBox=\"0 -960 960 960\">\n",
              "    <path d=\"M120-120v-720h720v720H120Zm60-500h600v-160H180v160Zm220 220h160v-160H400v160Zm0 220h160v-160H400v160ZM180-400h160v-160H180v160Zm440 0h160v-160H620v160ZM180-180h160v-160H180v160Zm440 0h160v-160H620v160Z\"/>\n",
              "  </svg>\n",
              "    </button>\n",
              "\n",
              "  <style>\n",
              "    .colab-df-container {\n",
              "      display:flex;\n",
              "      gap: 12px;\n",
              "    }\n",
              "\n",
              "    .colab-df-convert {\n",
              "      background-color: #E8F0FE;\n",
              "      border: none;\n",
              "      border-radius: 50%;\n",
              "      cursor: pointer;\n",
              "      display: none;\n",
              "      fill: #1967D2;\n",
              "      height: 32px;\n",
              "      padding: 0 0 0 0;\n",
              "      width: 32px;\n",
              "    }\n",
              "\n",
              "    .colab-df-convert:hover {\n",
              "      background-color: #E2EBFA;\n",
              "      box-shadow: 0px 1px 2px rgba(60, 64, 67, 0.3), 0px 1px 3px 1px rgba(60, 64, 67, 0.15);\n",
              "      fill: #174EA6;\n",
              "    }\n",
              "\n",
              "    .colab-df-buttons div {\n",
              "      margin-bottom: 4px;\n",
              "    }\n",
              "\n",
              "    [theme=dark] .colab-df-convert {\n",
              "      background-color: #3B4455;\n",
              "      fill: #D2E3FC;\n",
              "    }\n",
              "\n",
              "    [theme=dark] .colab-df-convert:hover {\n",
              "      background-color: #434B5C;\n",
              "      box-shadow: 0px 1px 3px 1px rgba(0, 0, 0, 0.15);\n",
              "      filter: drop-shadow(0px 1px 2px rgba(0, 0, 0, 0.3));\n",
              "      fill: #FFFFFF;\n",
              "    }\n",
              "  </style>\n",
              "\n",
              "    <script>\n",
              "      const buttonEl =\n",
              "        document.querySelector('#df-5cdebb89-9e54-4f7c-b6c9-06e19efadef7 button.colab-df-convert');\n",
              "      buttonEl.style.display =\n",
              "        google.colab.kernel.accessAllowed ? 'block' : 'none';\n",
              "\n",
              "      async function convertToInteractive(key) {\n",
              "        const element = document.querySelector('#df-5cdebb89-9e54-4f7c-b6c9-06e19efadef7');\n",
              "        const dataTable =\n",
              "          await google.colab.kernel.invokeFunction('convertToInteractive',\n",
              "                                                    [key], {});\n",
              "        if (!dataTable) return;\n",
              "\n",
              "        const docLinkHtml = 'Like what you see? Visit the ' +\n",
              "          '<a target=\"_blank\" href=https://colab.research.google.com/notebooks/data_table.ipynb>data table notebook</a>'\n",
              "          + ' to learn more about interactive tables.';\n",
              "        element.innerHTML = '';\n",
              "        dataTable['output_type'] = 'display_data';\n",
              "        await google.colab.output.renderOutput(dataTable, element);\n",
              "        const docLink = document.createElement('div');\n",
              "        docLink.innerHTML = docLinkHtml;\n",
              "        element.appendChild(docLink);\n",
              "      }\n",
              "    </script>\n",
              "  </div>\n",
              "\n",
              "\n",
              "    <div id=\"df-ec43b3af-b60d-488f-b2cf-696709f2f386\">\n",
              "      <button class=\"colab-df-quickchart\" onclick=\"quickchart('df-ec43b3af-b60d-488f-b2cf-696709f2f386')\"\n",
              "                title=\"Suggest charts\"\n",
              "                style=\"display:none;\">\n",
              "\n",
              "<svg xmlns=\"http://www.w3.org/2000/svg\" height=\"24px\"viewBox=\"0 0 24 24\"\n",
              "     width=\"24px\">\n",
              "    <g>\n",
              "        <path d=\"M19 3H5c-1.1 0-2 .9-2 2v14c0 1.1.9 2 2 2h14c1.1 0 2-.9 2-2V5c0-1.1-.9-2-2-2zM9 17H7v-7h2v7zm4 0h-2V7h2v10zm4 0h-2v-4h2v4z\"/>\n",
              "    </g>\n",
              "</svg>\n",
              "      </button>\n",
              "\n",
              "<style>\n",
              "  .colab-df-quickchart {\n",
              "      --bg-color: #E8F0FE;\n",
              "      --fill-color: #1967D2;\n",
              "      --hover-bg-color: #E2EBFA;\n",
              "      --hover-fill-color: #174EA6;\n",
              "      --disabled-fill-color: #AAA;\n",
              "      --disabled-bg-color: #DDD;\n",
              "  }\n",
              "\n",
              "  [theme=dark] .colab-df-quickchart {\n",
              "      --bg-color: #3B4455;\n",
              "      --fill-color: #D2E3FC;\n",
              "      --hover-bg-color: #434B5C;\n",
              "      --hover-fill-color: #FFFFFF;\n",
              "      --disabled-bg-color: #3B4455;\n",
              "      --disabled-fill-color: #666;\n",
              "  }\n",
              "\n",
              "  .colab-df-quickchart {\n",
              "    background-color: var(--bg-color);\n",
              "    border: none;\n",
              "    border-radius: 50%;\n",
              "    cursor: pointer;\n",
              "    display: none;\n",
              "    fill: var(--fill-color);\n",
              "    height: 32px;\n",
              "    padding: 0;\n",
              "    width: 32px;\n",
              "  }\n",
              "\n",
              "  .colab-df-quickchart:hover {\n",
              "    background-color: var(--hover-bg-color);\n",
              "    box-shadow: 0 1px 2px rgba(60, 64, 67, 0.3), 0 1px 3px 1px rgba(60, 64, 67, 0.15);\n",
              "    fill: var(--button-hover-fill-color);\n",
              "  }\n",
              "\n",
              "  .colab-df-quickchart-complete:disabled,\n",
              "  .colab-df-quickchart-complete:disabled:hover {\n",
              "    background-color: var(--disabled-bg-color);\n",
              "    fill: var(--disabled-fill-color);\n",
              "    box-shadow: none;\n",
              "  }\n",
              "\n",
              "  .colab-df-spinner {\n",
              "    border: 2px solid var(--fill-color);\n",
              "    border-color: transparent;\n",
              "    border-bottom-color: var(--fill-color);\n",
              "    animation:\n",
              "      spin 1s steps(1) infinite;\n",
              "  }\n",
              "\n",
              "  @keyframes spin {\n",
              "    0% {\n",
              "      border-color: transparent;\n",
              "      border-bottom-color: var(--fill-color);\n",
              "      border-left-color: var(--fill-color);\n",
              "    }\n",
              "    20% {\n",
              "      border-color: transparent;\n",
              "      border-left-color: var(--fill-color);\n",
              "      border-top-color: var(--fill-color);\n",
              "    }\n",
              "    30% {\n",
              "      border-color: transparent;\n",
              "      border-left-color: var(--fill-color);\n",
              "      border-top-color: var(--fill-color);\n",
              "      border-right-color: var(--fill-color);\n",
              "    }\n",
              "    40% {\n",
              "      border-color: transparent;\n",
              "      border-right-color: var(--fill-color);\n",
              "      border-top-color: var(--fill-color);\n",
              "    }\n",
              "    60% {\n",
              "      border-color: transparent;\n",
              "      border-right-color: var(--fill-color);\n",
              "    }\n",
              "    80% {\n",
              "      border-color: transparent;\n",
              "      border-right-color: var(--fill-color);\n",
              "      border-bottom-color: var(--fill-color);\n",
              "    }\n",
              "    90% {\n",
              "      border-color: transparent;\n",
              "      border-bottom-color: var(--fill-color);\n",
              "    }\n",
              "  }\n",
              "</style>\n",
              "\n",
              "      <script>\n",
              "        async function quickchart(key) {\n",
              "          const quickchartButtonEl =\n",
              "            document.querySelector('#' + key + ' button');\n",
              "          quickchartButtonEl.disabled = true;  // To prevent multiple clicks.\n",
              "          quickchartButtonEl.classList.add('colab-df-spinner');\n",
              "          try {\n",
              "            const charts = await google.colab.kernel.invokeFunction(\n",
              "                'suggestCharts', [key], {});\n",
              "          } catch (error) {\n",
              "            console.error('Error during call to suggestCharts:', error);\n",
              "          }\n",
              "          quickchartButtonEl.classList.remove('colab-df-spinner');\n",
              "          quickchartButtonEl.classList.add('colab-df-quickchart-complete');\n",
              "        }\n",
              "        (() => {\n",
              "          let quickchartButtonEl =\n",
              "            document.querySelector('#df-ec43b3af-b60d-488f-b2cf-696709f2f386 button');\n",
              "          quickchartButtonEl.style.display =\n",
              "            google.colab.kernel.accessAllowed ? 'block' : 'none';\n",
              "        })();\n",
              "      </script>\n",
              "    </div>\n",
              "    </div>\n",
              "  </div>\n"
            ],
            "application/vnd.google.colaboratory.intrinsic+json": {
              "type": "dataframe",
              "variable_name": "df",
              "repr_error": "0"
            }
          },
          "metadata": {},
          "execution_count": 5
        }
      ]
    },
    {
      "cell_type": "markdown",
      "source": [
        "## Предварительно обработайте функцию \"Уровень интереса\"."
      ],
      "metadata": {
        "id": "ulXlQtI9PqbV"
      }
    },
    {
      "cell_type": "code",
      "source": [
        "lower = df['price'].quantile(0.01)\n",
        "upper = df['price'].quantile(0.99)\n",
        "df = df[(df['price'] > lower) & (df['price'] < upper)]"
      ],
      "metadata": {
        "id": "Nzatx1WNrEaY"
      },
      "execution_count": 6,
      "outputs": []
    },
    {
      "cell_type": "code",
      "source": [
        "pd.set_option('future.no_silent_downcasting', True)\n",
        "df['interest_level'] = df['interest_level'].replace({'low': 0, 'medium': 1, 'high': 2}).astype(int)\n",
        "features_list = [item for row in df['features'] for item in row]\n",
        "most_common = [name for name, count in Counter(features_list).most_common(20)]"
      ],
      "metadata": {
        "id": "miIrz1gVrF_A"
      },
      "execution_count": 7,
      "outputs": []
    },
    {
      "cell_type": "markdown",
      "source": [
        "## Создайте характеристики: «Лифт», «Паркетные полы», «Разрешено проживание с кошками», «Разрешено проживание с собаками», «Швейцар», «Посудомоечная машина», «Без комиссии», «Прачечная в здании», «Фитнес-центр», «Довоенный период», «Прачечная в блоке», «Терраса на крыше», «Открытое пространство», «Столовая», «Высокоскоростной интернет», «Балкон», «Бассейн», «Прачечная в здании», «Новостройка», «Терраса»."
      ],
      "metadata": {
        "id": "y1ZYjG9_PvOT"
      }
    },
    {
      "cell_type": "code",
      "source": [
        "result_df = df[['bathrooms', 'bedrooms', 'interest_level', 'created', 'price', 'features']].copy()\n",
        "\n",
        "for feature in most_common:\n",
        "    result_df[feature] = df['features'].apply(lambda x: 1 if feature in x else 0)\n",
        "\n",
        "result_df = result_df.drop('features', axis=1)"
      ],
      "metadata": {
        "id": "vvqLve22ohec"
      },
      "execution_count": 8,
      "outputs": []
    },
    {
      "cell_type": "code",
      "source": [
        "result_df.head()"
      ],
      "metadata": {
        "colab": {
          "base_uri": "https://localhost:8080/",
          "height": 340
        },
        "id": "lecmnra1rWFC",
        "outputId": "dcebf381-3e1e-4142-bd25-c6d0824cbff0"
      },
      "execution_count": 9,
      "outputs": [
        {
          "output_type": "execute_result",
          "data": {
            "text/plain": [
              "    bathrooms  bedrooms  interest_level              created  price  Elevator  \\\n",
              "4         1.0         1               1  2016-06-16 05:55:27   2400         0   \n",
              "6         1.0         2               0  2016-06-01 05:44:33   3800         1   \n",
              "9         1.0         2               1  2016-06-14 15:19:59   3495         1   \n",
              "10        1.5         3               1  2016-06-24 07:54:24   3000         0   \n",
              "15        1.0         0               0  2016-06-28 03:50:23   2795         1   \n",
              "\n",
              "    Hardwood Floors  Cats Allowed  Dogs Allowed  Doorman  ...  \\\n",
              "4                 1             1             1        0  ...   \n",
              "6                 1             0             0        1  ...   \n",
              "9                 1             0             0        1  ...   \n",
              "10                0             0             0        0  ...   \n",
              "15                0             0             0        1  ...   \n",
              "\n",
              "    Laundry in Unit  Roof Deck  Outdoor Space  Dining Room  \\\n",
              "4                 0          0              0            1   \n",
              "6                 0          0              0            0   \n",
              "9                 1          0              0            0   \n",
              "10                0          0              0            0   \n",
              "15                0          0              0            0   \n",
              "\n",
              "    High Speed Internet  Balcony  Swimming Pool  Laundry In Building  \\\n",
              "4                     0        0              0                    0   \n",
              "6                     0        0              0                    0   \n",
              "9                     0        0              0                    0   \n",
              "10                    0        0              0                    0   \n",
              "15                    0        0              0                    0   \n",
              "\n",
              "    New Construction  Terrace  \n",
              "4                  0        0  \n",
              "6                  0        0  \n",
              "9                  0        0  \n",
              "10                 0        0  \n",
              "15                 0        0  \n",
              "\n",
              "[5 rows x 25 columns]"
            ],
            "text/html": [
              "\n",
              "  <div id=\"df-00ef0378-c9ef-46fa-a03f-a7ef6dc136a9\" class=\"colab-df-container\">\n",
              "    <div>\n",
              "<style scoped>\n",
              "    .dataframe tbody tr th:only-of-type {\n",
              "        vertical-align: middle;\n",
              "    }\n",
              "\n",
              "    .dataframe tbody tr th {\n",
              "        vertical-align: top;\n",
              "    }\n",
              "\n",
              "    .dataframe thead th {\n",
              "        text-align: right;\n",
              "    }\n",
              "</style>\n",
              "<table border=\"1\" class=\"dataframe\">\n",
              "  <thead>\n",
              "    <tr style=\"text-align: right;\">\n",
              "      <th></th>\n",
              "      <th>bathrooms</th>\n",
              "      <th>bedrooms</th>\n",
              "      <th>interest_level</th>\n",
              "      <th>created</th>\n",
              "      <th>price</th>\n",
              "      <th>Elevator</th>\n",
              "      <th>Hardwood Floors</th>\n",
              "      <th>Cats Allowed</th>\n",
              "      <th>Dogs Allowed</th>\n",
              "      <th>Doorman</th>\n",
              "      <th>...</th>\n",
              "      <th>Laundry in Unit</th>\n",
              "      <th>Roof Deck</th>\n",
              "      <th>Outdoor Space</th>\n",
              "      <th>Dining Room</th>\n",
              "      <th>High Speed Internet</th>\n",
              "      <th>Balcony</th>\n",
              "      <th>Swimming Pool</th>\n",
              "      <th>Laundry In Building</th>\n",
              "      <th>New Construction</th>\n",
              "      <th>Terrace</th>\n",
              "    </tr>\n",
              "  </thead>\n",
              "  <tbody>\n",
              "    <tr>\n",
              "      <th>4</th>\n",
              "      <td>1.0</td>\n",
              "      <td>1</td>\n",
              "      <td>1</td>\n",
              "      <td>2016-06-16 05:55:27</td>\n",
              "      <td>2400</td>\n",
              "      <td>0</td>\n",
              "      <td>1</td>\n",
              "      <td>1</td>\n",
              "      <td>1</td>\n",
              "      <td>0</td>\n",
              "      <td>...</td>\n",
              "      <td>0</td>\n",
              "      <td>0</td>\n",
              "      <td>0</td>\n",
              "      <td>1</td>\n",
              "      <td>0</td>\n",
              "      <td>0</td>\n",
              "      <td>0</td>\n",
              "      <td>0</td>\n",
              "      <td>0</td>\n",
              "      <td>0</td>\n",
              "    </tr>\n",
              "    <tr>\n",
              "      <th>6</th>\n",
              "      <td>1.0</td>\n",
              "      <td>2</td>\n",
              "      <td>0</td>\n",
              "      <td>2016-06-01 05:44:33</td>\n",
              "      <td>3800</td>\n",
              "      <td>1</td>\n",
              "      <td>1</td>\n",
              "      <td>0</td>\n",
              "      <td>0</td>\n",
              "      <td>1</td>\n",
              "      <td>...</td>\n",
              "      <td>0</td>\n",
              "      <td>0</td>\n",
              "      <td>0</td>\n",
              "      <td>0</td>\n",
              "      <td>0</td>\n",
              "      <td>0</td>\n",
              "      <td>0</td>\n",
              "      <td>0</td>\n",
              "      <td>0</td>\n",
              "      <td>0</td>\n",
              "    </tr>\n",
              "    <tr>\n",
              "      <th>9</th>\n",
              "      <td>1.0</td>\n",
              "      <td>2</td>\n",
              "      <td>1</td>\n",
              "      <td>2016-06-14 15:19:59</td>\n",
              "      <td>3495</td>\n",
              "      <td>1</td>\n",
              "      <td>1</td>\n",
              "      <td>0</td>\n",
              "      <td>0</td>\n",
              "      <td>1</td>\n",
              "      <td>...</td>\n",
              "      <td>1</td>\n",
              "      <td>0</td>\n",
              "      <td>0</td>\n",
              "      <td>0</td>\n",
              "      <td>0</td>\n",
              "      <td>0</td>\n",
              "      <td>0</td>\n",
              "      <td>0</td>\n",
              "      <td>0</td>\n",
              "      <td>0</td>\n",
              "    </tr>\n",
              "    <tr>\n",
              "      <th>10</th>\n",
              "      <td>1.5</td>\n",
              "      <td>3</td>\n",
              "      <td>1</td>\n",
              "      <td>2016-06-24 07:54:24</td>\n",
              "      <td>3000</td>\n",
              "      <td>0</td>\n",
              "      <td>0</td>\n",
              "      <td>0</td>\n",
              "      <td>0</td>\n",
              "      <td>0</td>\n",
              "      <td>...</td>\n",
              "      <td>0</td>\n",
              "      <td>0</td>\n",
              "      <td>0</td>\n",
              "      <td>0</td>\n",
              "      <td>0</td>\n",
              "      <td>0</td>\n",
              "      <td>0</td>\n",
              "      <td>0</td>\n",
              "      <td>0</td>\n",
              "      <td>0</td>\n",
              "    </tr>\n",
              "    <tr>\n",
              "      <th>15</th>\n",
              "      <td>1.0</td>\n",
              "      <td>0</td>\n",
              "      <td>0</td>\n",
              "      <td>2016-06-28 03:50:23</td>\n",
              "      <td>2795</td>\n",
              "      <td>1</td>\n",
              "      <td>0</td>\n",
              "      <td>0</td>\n",
              "      <td>0</td>\n",
              "      <td>1</td>\n",
              "      <td>...</td>\n",
              "      <td>0</td>\n",
              "      <td>0</td>\n",
              "      <td>0</td>\n",
              "      <td>0</td>\n",
              "      <td>0</td>\n",
              "      <td>0</td>\n",
              "      <td>0</td>\n",
              "      <td>0</td>\n",
              "      <td>0</td>\n",
              "      <td>0</td>\n",
              "    </tr>\n",
              "  </tbody>\n",
              "</table>\n",
              "<p>5 rows × 25 columns</p>\n",
              "</div>\n",
              "    <div class=\"colab-df-buttons\">\n",
              "\n",
              "  <div class=\"colab-df-container\">\n",
              "    <button class=\"colab-df-convert\" onclick=\"convertToInteractive('df-00ef0378-c9ef-46fa-a03f-a7ef6dc136a9')\"\n",
              "            title=\"Convert this dataframe to an interactive table.\"\n",
              "            style=\"display:none;\">\n",
              "\n",
              "  <svg xmlns=\"http://www.w3.org/2000/svg\" height=\"24px\" viewBox=\"0 -960 960 960\">\n",
              "    <path d=\"M120-120v-720h720v720H120Zm60-500h600v-160H180v160Zm220 220h160v-160H400v160Zm0 220h160v-160H400v160ZM180-400h160v-160H180v160Zm440 0h160v-160H620v160ZM180-180h160v-160H180v160Zm440 0h160v-160H620v160Z\"/>\n",
              "  </svg>\n",
              "    </button>\n",
              "\n",
              "  <style>\n",
              "    .colab-df-container {\n",
              "      display:flex;\n",
              "      gap: 12px;\n",
              "    }\n",
              "\n",
              "    .colab-df-convert {\n",
              "      background-color: #E8F0FE;\n",
              "      border: none;\n",
              "      border-radius: 50%;\n",
              "      cursor: pointer;\n",
              "      display: none;\n",
              "      fill: #1967D2;\n",
              "      height: 32px;\n",
              "      padding: 0 0 0 0;\n",
              "      width: 32px;\n",
              "    }\n",
              "\n",
              "    .colab-df-convert:hover {\n",
              "      background-color: #E2EBFA;\n",
              "      box-shadow: 0px 1px 2px rgba(60, 64, 67, 0.3), 0px 1px 3px 1px rgba(60, 64, 67, 0.15);\n",
              "      fill: #174EA6;\n",
              "    }\n",
              "\n",
              "    .colab-df-buttons div {\n",
              "      margin-bottom: 4px;\n",
              "    }\n",
              "\n",
              "    [theme=dark] .colab-df-convert {\n",
              "      background-color: #3B4455;\n",
              "      fill: #D2E3FC;\n",
              "    }\n",
              "\n",
              "    [theme=dark] .colab-df-convert:hover {\n",
              "      background-color: #434B5C;\n",
              "      box-shadow: 0px 1px 3px 1px rgba(0, 0, 0, 0.15);\n",
              "      filter: drop-shadow(0px 1px 2px rgba(0, 0, 0, 0.3));\n",
              "      fill: #FFFFFF;\n",
              "    }\n",
              "  </style>\n",
              "\n",
              "    <script>\n",
              "      const buttonEl =\n",
              "        document.querySelector('#df-00ef0378-c9ef-46fa-a03f-a7ef6dc136a9 button.colab-df-convert');\n",
              "      buttonEl.style.display =\n",
              "        google.colab.kernel.accessAllowed ? 'block' : 'none';\n",
              "\n",
              "      async function convertToInteractive(key) {\n",
              "        const element = document.querySelector('#df-00ef0378-c9ef-46fa-a03f-a7ef6dc136a9');\n",
              "        const dataTable =\n",
              "          await google.colab.kernel.invokeFunction('convertToInteractive',\n",
              "                                                    [key], {});\n",
              "        if (!dataTable) return;\n",
              "\n",
              "        const docLinkHtml = 'Like what you see? Visit the ' +\n",
              "          '<a target=\"_blank\" href=https://colab.research.google.com/notebooks/data_table.ipynb>data table notebook</a>'\n",
              "          + ' to learn more about interactive tables.';\n",
              "        element.innerHTML = '';\n",
              "        dataTable['output_type'] = 'display_data';\n",
              "        await google.colab.output.renderOutput(dataTable, element);\n",
              "        const docLink = document.createElement('div');\n",
              "        docLink.innerHTML = docLinkHtml;\n",
              "        element.appendChild(docLink);\n",
              "      }\n",
              "    </script>\n",
              "  </div>\n",
              "\n",
              "\n",
              "    <div id=\"df-15ab3196-907d-4f7e-bca2-5add32d67d34\">\n",
              "      <button class=\"colab-df-quickchart\" onclick=\"quickchart('df-15ab3196-907d-4f7e-bca2-5add32d67d34')\"\n",
              "                title=\"Suggest charts\"\n",
              "                style=\"display:none;\">\n",
              "\n",
              "<svg xmlns=\"http://www.w3.org/2000/svg\" height=\"24px\"viewBox=\"0 0 24 24\"\n",
              "     width=\"24px\">\n",
              "    <g>\n",
              "        <path d=\"M19 3H5c-1.1 0-2 .9-2 2v14c0 1.1.9 2 2 2h14c1.1 0 2-.9 2-2V5c0-1.1-.9-2-2-2zM9 17H7v-7h2v7zm4 0h-2V7h2v10zm4 0h-2v-4h2v4z\"/>\n",
              "    </g>\n",
              "</svg>\n",
              "      </button>\n",
              "\n",
              "<style>\n",
              "  .colab-df-quickchart {\n",
              "      --bg-color: #E8F0FE;\n",
              "      --fill-color: #1967D2;\n",
              "      --hover-bg-color: #E2EBFA;\n",
              "      --hover-fill-color: #174EA6;\n",
              "      --disabled-fill-color: #AAA;\n",
              "      --disabled-bg-color: #DDD;\n",
              "  }\n",
              "\n",
              "  [theme=dark] .colab-df-quickchart {\n",
              "      --bg-color: #3B4455;\n",
              "      --fill-color: #D2E3FC;\n",
              "      --hover-bg-color: #434B5C;\n",
              "      --hover-fill-color: #FFFFFF;\n",
              "      --disabled-bg-color: #3B4455;\n",
              "      --disabled-fill-color: #666;\n",
              "  }\n",
              "\n",
              "  .colab-df-quickchart {\n",
              "    background-color: var(--bg-color);\n",
              "    border: none;\n",
              "    border-radius: 50%;\n",
              "    cursor: pointer;\n",
              "    display: none;\n",
              "    fill: var(--fill-color);\n",
              "    height: 32px;\n",
              "    padding: 0;\n",
              "    width: 32px;\n",
              "  }\n",
              "\n",
              "  .colab-df-quickchart:hover {\n",
              "    background-color: var(--hover-bg-color);\n",
              "    box-shadow: 0 1px 2px rgba(60, 64, 67, 0.3), 0 1px 3px 1px rgba(60, 64, 67, 0.15);\n",
              "    fill: var(--button-hover-fill-color);\n",
              "  }\n",
              "\n",
              "  .colab-df-quickchart-complete:disabled,\n",
              "  .colab-df-quickchart-complete:disabled:hover {\n",
              "    background-color: var(--disabled-bg-color);\n",
              "    fill: var(--disabled-fill-color);\n",
              "    box-shadow: none;\n",
              "  }\n",
              "\n",
              "  .colab-df-spinner {\n",
              "    border: 2px solid var(--fill-color);\n",
              "    border-color: transparent;\n",
              "    border-bottom-color: var(--fill-color);\n",
              "    animation:\n",
              "      spin 1s steps(1) infinite;\n",
              "  }\n",
              "\n",
              "  @keyframes spin {\n",
              "    0% {\n",
              "      border-color: transparent;\n",
              "      border-bottom-color: var(--fill-color);\n",
              "      border-left-color: var(--fill-color);\n",
              "    }\n",
              "    20% {\n",
              "      border-color: transparent;\n",
              "      border-left-color: var(--fill-color);\n",
              "      border-top-color: var(--fill-color);\n",
              "    }\n",
              "    30% {\n",
              "      border-color: transparent;\n",
              "      border-left-color: var(--fill-color);\n",
              "      border-top-color: var(--fill-color);\n",
              "      border-right-color: var(--fill-color);\n",
              "    }\n",
              "    40% {\n",
              "      border-color: transparent;\n",
              "      border-right-color: var(--fill-color);\n",
              "      border-top-color: var(--fill-color);\n",
              "    }\n",
              "    60% {\n",
              "      border-color: transparent;\n",
              "      border-right-color: var(--fill-color);\n",
              "    }\n",
              "    80% {\n",
              "      border-color: transparent;\n",
              "      border-right-color: var(--fill-color);\n",
              "      border-bottom-color: var(--fill-color);\n",
              "    }\n",
              "    90% {\n",
              "      border-color: transparent;\n",
              "      border-bottom-color: var(--fill-color);\n",
              "    }\n",
              "  }\n",
              "</style>\n",
              "\n",
              "      <script>\n",
              "        async function quickchart(key) {\n",
              "          const quickchartButtonEl =\n",
              "            document.querySelector('#' + key + ' button');\n",
              "          quickchartButtonEl.disabled = true;  // To prevent multiple clicks.\n",
              "          quickchartButtonEl.classList.add('colab-df-spinner');\n",
              "          try {\n",
              "            const charts = await google.colab.kernel.invokeFunction(\n",
              "                'suggestCharts', [key], {});\n",
              "          } catch (error) {\n",
              "            console.error('Error during call to suggestCharts:', error);\n",
              "          }\n",
              "          quickchartButtonEl.classList.remove('colab-df-spinner');\n",
              "          quickchartButtonEl.classList.add('colab-df-quickchart-complete');\n",
              "        }\n",
              "        (() => {\n",
              "          let quickchartButtonEl =\n",
              "            document.querySelector('#df-15ab3196-907d-4f7e-bca2-5add32d67d34 button');\n",
              "          quickchartButtonEl.style.display =\n",
              "            google.colab.kernel.accessAllowed ? 'block' : 'none';\n",
              "        })();\n",
              "      </script>\n",
              "    </div>\n",
              "    </div>\n",
              "  </div>\n"
            ],
            "application/vnd.google.colaboratory.intrinsic+json": {
              "type": "dataframe",
              "variable_name": "result_df"
            }
          },
          "metadata": {},
          "execution_count": 9
        }
      ]
    },
    {
      "cell_type": "markdown",
      "source": [
        "# 3 Реализуйте следующие методы:"
      ],
      "metadata": {
        "id": "Fu67j5DtP4Uy"
      }
    },
    {
      "cell_type": "markdown",
      "source": [
        "## Разделите данные на 2 части случайным образом с параметром test_size (соотношение от 0 до 1), верните обучающие и тестовые выборки."
      ],
      "metadata": {
        "id": "fnZPUozeP8Wz"
      }
    },
    {
      "cell_type": "code",
      "source": [
        "X = result_df.drop('price', axis=1)\n",
        "y = result_df['price']"
      ],
      "metadata": {
        "id": "s46Px65EP7VA"
      },
      "execution_count": 10,
      "outputs": []
    },
    {
      "cell_type": "code",
      "source": [
        "def split_into_two(X, y, test_size=0.2):\n",
        "    indices = np.arange(len(X))\n",
        "    np.random.shuffle(indices)\n",
        "    test_size = int(len(X) * test_size) - 1\n",
        "\n",
        "    test_indices = indices[:test_size]\n",
        "    train_indices = indices[test_size:]\n",
        "    X_train, X_test = X.iloc[train_indices], X.iloc[test_indices]\n",
        "    y_train, y_test = y.iloc[train_indices], y.iloc[test_indices]\n",
        "\n",
        "    return X_train, X_test, y_train, y_test"
      ],
      "metadata": {
        "id": "hTKnQ94qtwXW"
      },
      "execution_count": 11,
      "outputs": []
    },
    {
      "cell_type": "code",
      "source": [
        "X_train, X_test, y_train, y_test = split_into_two(X, y, test_size=0.2)"
      ],
      "metadata": {
        "id": "KCrtQVIztzQs"
      },
      "execution_count": 12,
      "outputs": []
    },
    {
      "cell_type": "code",
      "source": [
        "y_train.info()\n",
        "y_test.info()\n",
        "display()"
      ],
      "metadata": {
        "colab": {
          "base_uri": "https://localhost:8080/"
        },
        "id": "gK5Tu4oD0p_g",
        "outputId": "f2356495-a6b5-4acc-bd98-10c3d9d30ee8"
      },
      "execution_count": 13,
      "outputs": [
        {
          "output_type": "stream",
          "name": "stdout",
          "text": [
            "<class 'pandas.core.series.Series'>\n",
            "Index: 38676 entries, 26314 to 44913\n",
            "Series name: price\n",
            "Non-Null Count  Dtype\n",
            "--------------  -----\n",
            "38676 non-null  int64\n",
            "dtypes: int64(1)\n",
            "memory usage: 604.3 KB\n",
            "<class 'pandas.core.series.Series'>\n",
            "Index: 9667 entries, 51380 to 1992\n",
            "Series name: price\n",
            "Non-Null Count  Dtype\n",
            "--------------  -----\n",
            "9667 non-null   int64\n",
            "dtypes: int64(1)\n",
            "memory usage: 151.0 KB\n"
          ]
        }
      ]
    },
    {
      "cell_type": "code",
      "source": [
        "print(X_train.shape, X_test.shape, y_train.shape, y_test.shape)"
      ],
      "metadata": {
        "colab": {
          "base_uri": "https://localhost:8080/"
        },
        "id": "N5uPcepSt0uE",
        "outputId": "29869bc3-03fc-405e-b72a-5c5c94b5750e"
      },
      "execution_count": 14,
      "outputs": [
        {
          "output_type": "stream",
          "name": "stdout",
          "text": [
            "(38676, 24) (9667, 24) (38676,) (9667,)\n"
          ]
        }
      ]
    },
    {
      "cell_type": "markdown",
      "source": [
        "## Случайным образом разделите данные на 3 части с параметрами validation_size и test_size, return train, validation и test samples."
      ],
      "metadata": {
        "id": "k4UBC18OQAoO"
      }
    },
    {
      "cell_type": "code",
      "source": [
        "def split_into_three(X, y, test_size=0.2, validation_size=0.2):\n",
        "    indices = np.arange(len(X))\n",
        "\n",
        "    test_size = int(len(X) * test_size)\n",
        "    valid_size = int(len(X) * validation_size)\n",
        "    train_size = len(X) - test_size - valid_size\n",
        "\n",
        "    test_indices = indices[:test_size]\n",
        "    validation_indices = indices[test_size:test_size + valid_size]\n",
        "    train_indices = indices[test_size + valid_size:]\n",
        "\n",
        "    X_train, X_valid, X_test = X.iloc[train_indices], X.iloc[validation_indices], X.iloc[test_indices],\n",
        "    y_train, y_valid, y_test = y.iloc[train_indices], y.iloc[validation_indices], y.iloc[test_indices],\n",
        "\n",
        "    return X_train, X_valid, X_test, y_train, y_valid, y_test"
      ],
      "metadata": {
        "id": "j1FD9H1UQDci"
      },
      "execution_count": 15,
      "outputs": []
    },
    {
      "cell_type": "code",
      "source": [
        "X_train, X_valid, X_test, y_train, y_valid, y_test = split_into_three(X, y, test_size=0.2, validation_size=0.2)"
      ],
      "metadata": {
        "id": "1ZFwqoIzt7vo"
      },
      "execution_count": 16,
      "outputs": []
    },
    {
      "cell_type": "code",
      "source": [
        "print(X_train.shape, X_valid.shape, X_test.shape, y_train.shape, y_valid.shape, y_test.shape)"
      ],
      "metadata": {
        "colab": {
          "base_uri": "https://localhost:8080/"
        },
        "id": "yF1d-Zudt_nC",
        "outputId": "78bf93c6-8953-48e0-825b-28301698f77e"
      },
      "execution_count": 17,
      "outputs": [
        {
          "output_type": "stream",
          "name": "stdout",
          "text": [
            "(29007, 24) (9668, 24) (9668, 24) (29007,) (9668,) (9668,)\n"
          ]
        }
      ]
    },
    {
      "cell_type": "markdown",
      "source": [
        "## Разделите данные на 2 части с помощью параметра date_split, чтобы получить обучающую и тестовую выборки, разделённые параметром date_split."
      ],
      "metadata": {
        "id": "RXMFVe46QDxo"
      }
    },
    {
      "cell_type": "code",
      "source": [
        "def split_date_two(X, y, date_split='2016-06-01'):\n",
        "    X['created'] = pd.to_datetime(X['created'])\n",
        "    X = X.sort_values(by='created')\n",
        "    train_df = X[X['created'] < date_split]\n",
        "    test_df = X[X['created'] >= date_split]\n",
        "\n",
        "    X_train, X_test = X.loc[train_df.index], X.loc[test_df.index]\n",
        "    y_train, y_test = y.loc[train_df.index], y.loc[test_df.index]\n",
        "\n",
        "    return X_train, X_test, y_train, y_test"
      ],
      "metadata": {
        "id": "Ce3RZ_48QISW"
      },
      "execution_count": 18,
      "outputs": []
    },
    {
      "cell_type": "code",
      "source": [
        "X_train, X_test, y_train, y_test = split_date_two(X, y, date_split='2016-06-01')"
      ],
      "metadata": {
        "id": "bPXJLroFuDEC"
      },
      "execution_count": 19,
      "outputs": []
    },
    {
      "cell_type": "code",
      "source": [
        "print(X_train.shape, X_test.shape, y_train.shape, y_test.shape)"
      ],
      "metadata": {
        "colab": {
          "base_uri": "https://localhost:8080/"
        },
        "id": "NtuYakX6uDvp",
        "outputId": "a4888f2e-ffe9-4636-d648-4817f585f0c5"
      },
      "execution_count": 20,
      "outputs": [
        {
          "output_type": "stream",
          "name": "stdout",
          "text": [
            "(31551, 24) (16792, 24) (31551,) (16792,)\n"
          ]
        }
      ]
    },
    {
      "cell_type": "markdown",
      "source": [
        "## Разделите данные на 3 части с параметрами validation_date и test_date, return train, validation и test samples, разделенными по входным параметрам."
      ],
      "metadata": {
        "id": "98mArRw4QIwy"
      }
    },
    {
      "cell_type": "code",
      "source": [
        "def split_date_three(X, y, validation_date='2016-05-01', test_date='2016-06-01'):\n",
        "    X['created'] = pd.to_datetime(X['created'])\n",
        "    X = X.sort_values(by='created')\n",
        "    train_df = X[X['created'] < validation_date]\n",
        "    valid_df = X[(X['created'] >= validation_date) & (X['created'] < test_date)]\n",
        "    test_df = X[X['created'] >= test_date]\n",
        "\n",
        "    X_train, X_valid, X_test = X.loc[train_df.index], X.loc[valid_df.index], X.loc[test_df.index]\n",
        "    y_train, y_valid, y_test = y.loc[train_df.index], y.loc[valid_df.index], y.loc[test_df.index]\n",
        "\n",
        "    return X_train, X_valid, X_test, y_train, y_valid, y_test"
      ],
      "metadata": {
        "id": "ubc5Z8hAQMBQ"
      },
      "execution_count": 21,
      "outputs": []
    },
    {
      "cell_type": "code",
      "source": [
        "X_train, X_valid, X_test, y_train, y_valid, y_test = split_date_three(X, y, validation_date='2016-05-01',\n",
        "                                                                      test_date='2016-06-01')"
      ],
      "metadata": {
        "id": "pzOz3-nruMGM"
      },
      "execution_count": 22,
      "outputs": []
    },
    {
      "cell_type": "code",
      "source": [
        "print(X_train.shape, X_valid.shape, X_test.shape, y_train.shape, y_valid.shape, y_test.shape)"
      ],
      "metadata": {
        "colab": {
          "base_uri": "https://localhost:8080/"
        },
        "id": "BMDrXNBiuNLm",
        "outputId": "c817c192-3132-4d98-ce83-5382d8eb140b"
      },
      "execution_count": 23,
      "outputs": [
        {
          "output_type": "stream",
          "name": "stdout",
          "text": [
            "(16091, 24) (15460, 24) (16792, 24) (16091,) (15460,) (16792,)\n"
          ]
        }
      ]
    },
    {
      "cell_type": "markdown",
      "source": [
        "## Сделайте процедуру разделения детерминированной. Что это значит?"
      ],
      "metadata": {
        "id": "7PMzphCcQMY7"
      }
    },
    {
      "cell_type": "code",
      "source": [
        "def split_determine(X, y, validation_date='2016-05-01', test_date='2016-06-01', random_state=None):\n",
        "    X['created'] = pd.to_datetime(X['created'])\n",
        "    X = X.sort_values(by='created')\n",
        "\n",
        "    train_mask = X['created'] < validation_date\n",
        "    valid_mask = (X['created'] >= validation_date) & (X['created'] < test_date)\n",
        "    test_mask = X['created'] >= test_date\n",
        "\n",
        "    train_idx = X[train_mask].index\n",
        "    valid_idx = X[valid_mask].index\n",
        "    test_idx = X[test_mask].index\n",
        "\n",
        "    rng = np.random.RandomState(random_state)\n",
        "    train_idx = rng.permutation(train_idx)\n",
        "    valid_idx = rng.permutation(valid_idx)\n",
        "    test_idx = rng.permutation(test_idx)\n",
        "\n",
        "    X_train, X_valid, X_test = X.loc[train_idx], X.loc[valid_idx], X.loc[test_idx]\n",
        "    y_train, y_valid, y_test = y.loc[train_idx], y.loc[valid_idx], y.loc[test_idx]\n",
        "\n",
        "    return X_train, X_valid, X_test, y_train, y_valid, y_test"
      ],
      "metadata": {
        "id": "frFEeWXgQPZJ"
      },
      "execution_count": 24,
      "outputs": []
    },
    {
      "cell_type": "code",
      "source": [
        "X_train, X_valid, X_test, y_train, y_valid, y_test = split_determine(\n",
        "    X,\n",
        "    y,\n",
        "    validation_date='2016-05-01',\n",
        "    test_date='2016-06-01',\n",
        "    random_state=21\n",
        ")"
      ],
      "metadata": {
        "id": "OYTS1GWuwDOs"
      },
      "execution_count": 25,
      "outputs": []
    },
    {
      "cell_type": "code",
      "source": [
        "print(X_train.shape, X_valid.shape, X_test.shape, y_train.shape, y_valid.shape, y_test.shape)"
      ],
      "metadata": {
        "colab": {
          "base_uri": "https://localhost:8080/"
        },
        "id": "khNLpRCpwH6b",
        "outputId": "615670f2-e0c8-4a66-8172-d6548433d9f3"
      },
      "execution_count": 26,
      "outputs": [
        {
          "output_type": "stream",
          "name": "stdout",
          "text": [
            "(16091, 24) (15460, 24) (16792, 24) (16091,) (15460,) (16792,)\n"
          ]
        }
      ]
    },
    {
      "cell_type": "markdown",
      "source": [
        "# 4, 5 Используйте следующие методы кросс-валидации:"
      ],
      "metadata": {
        "id": "M8tmPCmaQPv5"
      }
    },
    {
      "cell_type": "markdown",
      "source": [
        "## K-Fold, где k — входной параметр, возвращает список индексов для обучения и тестирования."
      ],
      "metadata": {
        "id": "y6XytfwoQZpU"
      }
    },
    {
      "cell_type": "code",
      "source": [
        "class MyKFold:\n",
        "    def __init__(self, k= 5):\n",
        "        if k < 2:\n",
        "            raise ValueError(\"k must be at least 2.\")\n",
        "        self.n_splits= k\n",
        "    def split(self, X):\n",
        "        n_samples= len(X)\n",
        "        idexes= np.arange(n_samples)\n",
        "        fold_size= n_samples // self.n_splits\n",
        "        for i in range(self.n_splits):\n",
        "            test_id= idexes[i * fold_size : (i+1) * fold_size]\n",
        "            train_id= np.setdiff1d(idexes, test_id)\n",
        "            yield train_id, test_id\n",
        "\n",
        "kf = MyKFold()\n",
        "for train_id, test_id in kf.split(X):\n",
        "    print(f\"Train: {train_id}, Test: {test_id}\")"
      ],
      "metadata": {
        "colab": {
          "base_uri": "https://localhost:8080/"
        },
        "id": "nMlRe-l03GB7",
        "outputId": "e57fe4ae-6d8c-408c-bae7-0383e5a26b6c"
      },
      "execution_count": 27,
      "outputs": [
        {
          "output_type": "stream",
          "name": "stdout",
          "text": [
            "Train: [ 9668  9669  9670 ... 48340 48341 48342], Test: [   0    1    2 ... 9665 9666 9667]\n",
            "Train: [    0     1     2 ... 48340 48341 48342], Test: [ 9668  9669  9670 ... 19333 19334 19335]\n",
            "Train: [    0     1     2 ... 48340 48341 48342], Test: [19336 19337 19338 ... 29001 29002 29003]\n",
            "Train: [    0     1     2 ... 48340 48341 48342], Test: [29004 29005 29006 ... 38669 38670 38671]\n",
            "Train: [    0     1     2 ... 48340 48341 48342], Test: [38672 38673 38674 ... 48337 48338 48339]\n"
          ]
        }
      ]
    },
    {
      "cell_type": "code",
      "source": [
        "sk_kf = KFold()\n",
        "for train_id, test_id in sk_kf.split(X):\n",
        "    print(f\"Train: {train_id}, Test: {test_id}\")"
      ],
      "metadata": {
        "colab": {
          "base_uri": "https://localhost:8080/"
        },
        "id": "D-5bm_qL81xF",
        "outputId": "7f323eb0-4147-4fe3-97c1-6eed0d94d98a"
      },
      "execution_count": 28,
      "outputs": [
        {
          "output_type": "stream",
          "name": "stdout",
          "text": [
            "Train: [ 9669  9670  9671 ... 48340 48341 48342], Test: [   0    1    2 ... 9666 9667 9668]\n",
            "Train: [    0     1     2 ... 48340 48341 48342], Test: [ 9669  9670  9671 ... 19335 19336 19337]\n",
            "Train: [    0     1     2 ... 48340 48341 48342], Test: [19338 19339 19340 ... 29004 29005 29006]\n",
            "Train: [    0     1     2 ... 48340 48341 48342], Test: [29007 29008 29009 ... 38672 38673 38674]\n",
            "Train: [    0     1     2 ... 38672 38673 38674], Test: [38675 38676 38677 ... 48340 48341 48342]\n"
          ]
        }
      ]
    },
    {
      "cell_type": "markdown",
      "source": [
        "## Сгруппированный в K раз, где k и group_field являются входными параметрами, возвращает список индексов поезда и теста."
      ],
      "metadata": {
        "id": "uCXYBGc0QdcV"
      }
    },
    {
      "cell_type": "code",
      "source": [
        "class MyGroupKFold:\n",
        "    def __init__(self, k=3):\n",
        "        if k < 2:\n",
        "            raise ValueError(\"k must be at least 2.\")\n",
        "        self.n_splits= k\n",
        "    def split(self, X, group_field):\n",
        "        indices = np.arange(len(X))\n",
        "        unique_groups = np.unique(group_field)\n",
        "        for i in range(self.n_splits):\n",
        "            test_groups = unique_groups[i * len(unique_groups) // self.n_splits : (i + 1) * len(unique_groups) // self.n_splits]\n",
        "            test_id = np.where(np.isin(group_field, test_groups))[0]\n",
        "            train_id = np.setdiff1d(indices, test_id)\n",
        "            yield train_id, test_id\n",
        "\n",
        "\n",
        "groupkf = MyGroupKFold()\n",
        "for train_id, test_id in groupkf.split(X, group_field=X['interest_level']):\n",
        "    print(f\"Train: {train_id}, Test: {test_id}\")"
      ],
      "metadata": {
        "colab": {
          "base_uri": "https://localhost:8080/"
        },
        "id": "nYNIC6CYQgCA",
        "outputId": "56574ee5-06ee-4daa-8f16-f480ba38b887"
      },
      "execution_count": 29,
      "outputs": [
        {
          "output_type": "stream",
          "name": "stdout",
          "text": [
            "Train: [    0     2     3 ... 48340 48341 48342], Test: [    1     4     5 ... 48336 48337 48338]\n",
            "Train: [    1     4     5 ... 48337 48338 48342], Test: [    0     2     3 ... 48339 48340 48341]\n",
            "Train: [    0     1     2 ... 48339 48340 48341], Test: [    7    17    31 ... 48303 48332 48342]\n"
          ]
        }
      ]
    },
    {
      "cell_type": "code",
      "source": [
        "sk_gkf = GroupKFold(n_splits=3)\n",
        "for train_id, test_id in sk_gkf.split(X, groups=X['interest_level']):\n",
        "    print(f\"Train: {train_id}, Test: {test_id}\")"
      ],
      "metadata": {
        "colab": {
          "base_uri": "https://localhost:8080/"
        },
        "id": "-sth3vCn8_Lp",
        "outputId": "25ea901c-4668-4b1c-eaf4-8938695c3cc1"
      },
      "execution_count": 30,
      "outputs": [
        {
          "output_type": "stream",
          "name": "stdout",
          "text": [
            "Train: [    0     2     3 ... 48340 48341 48342], Test: [    1     4     5 ... 48336 48337 48338]\n",
            "Train: [    1     4     5 ... 48337 48338 48342], Test: [    0     2     3 ... 48339 48340 48341]\n",
            "Train: [    0     1     2 ... 48339 48340 48341], Test: [    7    17    31 ... 48303 48332 48342]\n"
          ]
        }
      ]
    },
    {
      "cell_type": "markdown",
      "source": [
        "## Stratified K-кратный, где k и stratify_field являются входными параметрами, возвращает список индексов обучения и тестирования."
      ],
      "metadata": {
        "id": "sdBEhxPDQgXP"
      }
    },
    {
      "cell_type": "code",
      "source": [
        "class MyStratifiedKFold:\n",
        "    def __init__(self, k=3):\n",
        "        if k < 2:\n",
        "            raise ValueError(\"k must be at least 2.\")\n",
        "        self.n_splits = k\n",
        "\n",
        "    def split(self, X, stratify_field):\n",
        "        unique_classes = np.unique(stratify_field)\n",
        "        for i in range(self.n_splits):\n",
        "            test_index = []\n",
        "            train_index = []\n",
        "            for cls in unique_classes:\n",
        "                cls_indices = np.where(stratify_field == cls)[0]\n",
        "                fold_size = len(cls_indices) // self.n_splits\n",
        "\n",
        "                test_cls_indices = cls_indices[i * fold_size: (i + 1) * fold_size]\n",
        "                train_cls_indices = np.setdiff1d(cls_indices, test_cls_indices)\n",
        "\n",
        "                test_index.extend(test_cls_indices)\n",
        "                train_index.extend(train_cls_indices)\n",
        "\n",
        "            yield np.sort(train_index), np.sort(test_index)\n",
        "\n",
        "\n",
        "stratifiedkfold = MyStratifiedKFold(k=5)\n",
        "for train_id, test_id in stratifiedkfold.split(X, X['interest_level']):\n",
        "    print(f\"Train: {train_id}, Test: {test_id}\")"
      ],
      "metadata": {
        "colab": {
          "base_uri": "https://localhost:8080/"
        },
        "id": "QE0TIxeCQjV_",
        "outputId": "a18eeb14-c940-4e30-e9af-fec5ea8a7c5f"
      },
      "execution_count": 31,
      "outputs": [
        {
          "output_type": "stream",
          "name": "stdout",
          "text": [
            "Train: [ 9563  9564  9565 ... 48340 48341 48342], Test: [   0    1    2 ... 9956 9959 9966]\n",
            "Train: [    0     1     2 ... 48340 48341 48342], Test: [ 9563  9564  9565 ... 19661 19664 19672]\n",
            "Train: [    0     1     2 ... 48340 48341 48342], Test: [19196 19199 19201 ... 29171 29175 29176]\n",
            "Train: [    0     1     2 ... 48340 48341 48342], Test: [28930 28936 28937 ... 38699 38700 38701]\n",
            "Train: [    0     1     2 ... 48340 48341 48342], Test: [38236 38237 38246 ... 48333 48334 48336]\n"
          ]
        }
      ]
    },
    {
      "cell_type": "code",
      "source": [
        "sk_skf = StratifiedKFold()\n",
        "for train_id, test_id in sk_skf.split(X, X['interest_level']):\n",
        "    print(f\"Train: {train_id}, Test: {test_id}\")"
      ],
      "metadata": {
        "colab": {
          "base_uri": "https://localhost:8080/"
        },
        "id": "TpUqvxV-9KdV",
        "outputId": "1b95ce10-acc6-4a25-c1d1-9cc1d956b02d"
      },
      "execution_count": 32,
      "outputs": [
        {
          "output_type": "stream",
          "name": "stdout",
          "text": [
            "Train: [ 9564  9565  9566 ... 48340 48341 48342], Test: [   0    1    2 ... 9959 9966 9970]\n",
            "Train: [    0     1     2 ... 48340 48341 48342], Test: [ 9564  9565  9566 ... 19672 19679 19680]\n",
            "Train: [    0     1     2 ... 48340 48341 48342], Test: [19199 19201 19202 ... 29180 29182 29187]\n",
            "Train: [    0     1     2 ... 48340 48341 48342], Test: [28936 28937 28938 ... 38715 38721 38726]\n",
            "Train: [    0     1     2 ... 38715 38721 38726], Test: [38246 38286 38298 ... 48340 48341 48342]\n"
          ]
        }
      ]
    },
    {
      "cell_type": "markdown",
      "source": [
        "## Функция разделения временных рядов, где k и date_field являются входными параметрами, возвращает список индексов поезда и теста."
      ],
      "metadata": {
        "id": "qXeJJyC6Qjxm"
      }
    },
    {
      "cell_type": "code",
      "source": [
        "class MyTimeSeriesSplit:\n",
        "    def __init__(self, k= 4):\n",
        "        if k < 2:\n",
        "            raise ValueError(\"k must be at least 2.\")\n",
        "        self.n_splits = k\n",
        "    def split(self, X, date_field):\n",
        "        X_sorted = X.sort_values(by=date_field)\n",
        "        n_samles = len(X_sorted)\n",
        "        min_train_size = int(n_samles * 0.2)\n",
        "        indices = np.arange(n_samles)\n",
        "        fold_size = (n_samles - min_train_size) // self.n_splits\n",
        "        if fold_size == 0:\n",
        "            raise ValueError(\"Too much folds for this data\")\n",
        "\n",
        "        for i in range(self.n_splits):\n",
        "            start = min_train_size + i * fold_size\n",
        "            stop = min_train_size + (i + 1) * fold_size if i != self.n_splits - 1 else n_samles\n",
        "            test_id = indices[start:stop]\n",
        "            train_id = indices[:start]\n",
        "            yield train_id, test_id\n",
        "\n",
        "\n",
        "myts = MyTimeSeriesSplit()\n",
        "for train_id, test_id in myts.split(X, date_field = 'created'):\n",
        "    print(f\"Train: {(train_id)}, Test: {test_id}\")"
      ],
      "metadata": {
        "colab": {
          "base_uri": "https://localhost:8080/"
        },
        "id": "BYYU5aHDQmg-",
        "outputId": "cf4972f0-2884-4aca-9411-6f653c480235"
      },
      "execution_count": 33,
      "outputs": [
        {
          "output_type": "stream",
          "name": "stdout",
          "text": [
            "Train: [   0    1    2 ... 9665 9666 9667], Test: [ 9668  9669  9670 ... 19333 19334 19335]\n",
            "Train: [    0     1     2 ... 19333 19334 19335], Test: [19336 19337 19338 ... 29001 29002 29003]\n",
            "Train: [    0     1     2 ... 29001 29002 29003], Test: [29004 29005 29006 ... 38669 38670 38671]\n",
            "Train: [    0     1     2 ... 38669 38670 38671], Test: [38672 38673 38674 ... 48340 48341 48342]\n"
          ]
        }
      ]
    },
    {
      "cell_type": "code",
      "source": [
        "sk_tss = TimeSeriesSplit(n_splits=4)\n",
        "for train_id, test_id in sk_tss.split(X, X['created']):\n",
        "    print(f\"Train: {(train_id)}, Test: {test_id}\")"
      ],
      "metadata": {
        "colab": {
          "base_uri": "https://localhost:8080/"
        },
        "id": "ImHLCm-X9xF1",
        "outputId": "9bfeaa3e-7c0f-4bb4-aad2-b14ad20bc3f9"
      },
      "execution_count": 34,
      "outputs": [
        {
          "output_type": "stream",
          "name": "stdout",
          "text": [
            "Train: [   0    1    2 ... 9668 9669 9670], Test: [ 9671  9672  9673 ... 19336 19337 19338]\n",
            "Train: [    0     1     2 ... 19336 19337 19338], Test: [19339 19340 19341 ... 29004 29005 29006]\n",
            "Train: [    0     1     2 ... 29004 29005 29006], Test: [29007 29008 29009 ... 38672 38673 38674]\n",
            "Train: [    0     1     2 ... 38672 38673 38674], Test: [38675 38676 38677 ... 48340 48341 48342]\n"
          ]
        }
      ]
    },
    {
      "cell_type": "markdown",
      "source": [
        "### Обычный K-fold метод подходит для наших целей. Но если у целевой переменной длинный хвост, лучше использовать StratifiedKFold метод и разделить дорогостоящие объекты, сохранив соотношение между обучающей и тестовой выборками"
      ],
      "metadata": {
        "id": "tY3hBQeS3PkQ"
      }
    },
    {
      "cell_type": "markdown",
      "source": [
        "# 6 Выбор функции"
      ],
      "metadata": {
        "id": "l92ux2vJQ9Pj"
      }
    },
    {
      "cell_type": "markdown",
      "source": [
        "## Сопоставьте регрессионную модель Lasso с нормализованными характеристиками. Используйте свой метод для разделения выборок на 3 части по полю, созданному с соотношением 60/20/20 — обучение/проверка/тест."
      ],
      "metadata": {
        "id": "ZFABWNZTRBqN"
      }
    },
    {
      "cell_type": "code",
      "source": [
        "X = result_df.drop(['created', 'price'], axis=1)\n",
        "y = result_df['price']"
      ],
      "metadata": {
        "id": "sYH99Xd9RA5R"
      },
      "execution_count": 35,
      "outputs": []
    },
    {
      "cell_type": "code",
      "source": [
        "X_train, X_valid, X_test, y_train, y_valid, y_test = split_into_three(X, y, test_size=0.2,\n",
        "                                                                      validation_size=0.2)"
      ],
      "metadata": {
        "id": "WxP8844Egs7u"
      },
      "execution_count": 36,
      "outputs": []
    },
    {
      "cell_type": "code",
      "source": [
        "metrics = pd.DataFrame(columns=['name', 'DS_name', 'R2', 'MAE', 'RMSE'])"
      ],
      "metadata": {
        "id": "6lw9xgU7gudO"
      },
      "execution_count": 37,
      "outputs": []
    },
    {
      "cell_type": "code",
      "source": [
        "def write_metrics(model, name, X_train, X_val, X_test):\n",
        "    y_pred_train = model.predict(X_train)\n",
        "    y_pred_valid = model.predict(X_val)\n",
        "    y_pred_test = model.predict(X_test)\n",
        "\n",
        "    r2_metrics = {'train': r2_score(y_train, y_pred_train),\n",
        "                  'valid': r2_score(y_valid, y_pred_valid),\n",
        "                  'test': r2_score(y_test, y_pred_test)}\n",
        "\n",
        "    mae_metrics = {'train': mean_absolute_error(y_train, y_pred_train),\n",
        "                   'valid': mean_absolute_error(y_valid, y_pred_valid),\n",
        "                   'test': mean_absolute_error(y_test, y_pred_test)}\n",
        "\n",
        "    rmse_metrics = {'train': np.sqrt(mean_squared_error(y_train, y_pred_train)),\n",
        "                    'valid': np.sqrt(mean_squared_error(y_valid, y_pred_valid)),\n",
        "                    'test': np.sqrt(mean_squared_error(y_test, y_pred_test))}\n",
        "    for ds_name in ['train', 'valid', 'test']:\n",
        "        metrics.loc[len(metrics)] = [name, ds_name, r2_metrics[ds_name], mae_metrics[ds_name], rmse_metrics[ds_name]]"
      ],
      "metadata": {
        "id": "8BVUnBmUgvuL"
      },
      "execution_count": 38,
      "outputs": []
    },
    {
      "cell_type": "markdown",
      "source": [
        "## Сортируйте элементы по весовым коэффициентам модели, подбирайте модель к 10 лучшим элементам и сравнивайте качество."
      ],
      "metadata": {
        "id": "RH1eLocWRGVM"
      }
    },
    {
      "cell_type": "code",
      "source": [
        "lasso_cv = LassoCV(cv=10)\n",
        "lasso_cv.fit(X_train, y_train)\n",
        "print(f'Best alpha: {lasso_cv.alpha_}')\n",
        "print(f'Coefficients: {lasso_cv.coef_}')\n",
        "write_metrics(lasso_cv, 'lasso_default', X_train, X_valid, X_test)"
      ],
      "metadata": {
        "id": "WQgfKmN8RI61",
        "colab": {
          "base_uri": "https://localhost:8080/"
        },
        "outputId": "5da34eee-b616-4e1a-e9b0-de811ad93b91"
      },
      "execution_count": 39,
      "outputs": [
        {
          "output_type": "stream",
          "name": "stdout",
          "text": [
            "Best alpha: 0.9548653759868557\n",
            "Coefficients: [1484.22165089  476.97931121 -405.39409014  219.40302491  -83.53871496\n",
            "   -6.22907031   62.64397499  549.44293187  136.78643156  -82.39140043\n",
            " -181.05643333  189.17720428  -49.64214862  452.44198693  -97.45896539\n",
            "  -46.68470313   97.16973705 -181.86160668  -60.08743073   -0.\n",
            " -173.82045417  -96.08519856  149.51257286]\n"
          ]
        }
      ]
    },
    {
      "cell_type": "code",
      "source": [
        "coefficients = np.abs(lasso_cv.coef_)\n",
        "indices = np.argsort(coefficients)[::-1]\n",
        "top_10_indices = indices[:10]\n",
        "top_10_indices"
      ],
      "metadata": {
        "colab": {
          "base_uri": "https://localhost:8080/"
        },
        "id": "qGL97TAJg2l0",
        "outputId": "5d272b02-f796-4976-8f85-bd0c58b0819e"
      },
      "execution_count": 40,
      "outputs": [
        {
          "output_type": "execute_result",
          "data": {
            "text/plain": [
              "array([ 0,  7,  1, 13,  2,  3, 11, 17, 10, 20])"
            ]
          },
          "metadata": {},
          "execution_count": 40
        }
      ]
    },
    {
      "cell_type": "code",
      "source": [
        "X_train_10_weight = X_train.iloc[:, top_10_indices]\n",
        "X_valid_10_weight = X_valid.iloc[:, top_10_indices]\n",
        "X_test_10_weight = X_test.iloc[:, top_10_indices]"
      ],
      "metadata": {
        "id": "JJXx1XGLhbLq"
      },
      "execution_count": 41,
      "outputs": []
    },
    {
      "cell_type": "markdown",
      "source": [
        "## Реализуйте метод для простого выбора объектов по nan-соотношению в параметрах и корреляции. Примените этот метод к набору объектов и выберите 10 лучших объектов, обновите модель и измерьте качество."
      ],
      "metadata": {
        "id": "n8UjcEoFRJRy"
      }
    },
    {
      "cell_type": "code",
      "source": [
        "lasso_cv = LassoCV(cv=10)\n",
        "lasso_cv.fit(X_train_10_weight, y_train)\n",
        "write_metrics(lasso_cv, 'X_train_10_weight', X_train_10_weight, X_valid_10_weight, X_test_10_weight)"
      ],
      "metadata": {
        "id": "M4uHl_O8RLmR"
      },
      "execution_count": 42,
      "outputs": []
    },
    {
      "cell_type": "code",
      "source": [
        "corr_matrix = result_df.drop('created', axis=1).corr()\n",
        "corr_matrix = corr_matrix.sort_values(by='price', ascending=False)\n",
        "top_10_corr = corr_matrix.index[1:11].tolist()\n",
        "print(top_10_corr)"
      ],
      "metadata": {
        "colab": {
          "base_uri": "https://localhost:8080/"
        },
        "id": "DFPqRUAwhe3A",
        "outputId": "5d5e1568-3890-4f2f-db69-6aaa8305cb6f"
      },
      "execution_count": 43,
      "outputs": [
        {
          "output_type": "stream",
          "name": "stdout",
          "text": [
            "['bathrooms', 'bedrooms', 'Doorman', 'Laundry in Unit', 'Fitness Center', 'Dishwasher', 'Dining Room', 'Elevator', 'Outdoor Space', 'Laundry in Building']\n"
          ]
        }
      ]
    },
    {
      "cell_type": "markdown",
      "source": [
        "## Реализуйте метод важности перестановок и выберите 10 лучших признаков, переобучите модель и оцените качество."
      ],
      "metadata": {
        "id": "hIvolWk6RMBi"
      }
    },
    {
      "cell_type": "code",
      "source": [
        "X_train_corr = X_train.loc[:, top_10_corr]\n",
        "X_valid_corr = X_valid.loc[:, top_10_corr]\n",
        "X_test_corr = X_test.loc[:, top_10_corr]"
      ],
      "metadata": {
        "id": "lyVNcjvhROw7"
      },
      "execution_count": 44,
      "outputs": []
    },
    {
      "cell_type": "code",
      "source": [
        "lasso_cv = LassoCV(cv=10)\n",
        "lasso_cv.fit(X_train_corr, y_train)\n",
        "write_metrics(lasso_cv, 'X_train_10_correlation', X_train_corr, X_valid_corr, X_test_corr)"
      ],
      "metadata": {
        "id": "VTlucOJthkZM"
      },
      "execution_count": 45,
      "outputs": []
    },
    {
      "cell_type": "code",
      "source": [
        "lasso_cv = LassoCV(cv=10)\n",
        "lasso_cv.fit(X_train, y_train)\n",
        "importance = permutation_importance(lasso_cv, X_train, y_train, n_repeats=10)\n",
        "importance_mean = importance.importances_mean\n",
        "sort_importance = np.argsort(importance_mean)[::-1]\n",
        "top_10_importance = sort_importance.tolist()[:10]\n",
        "top_10_importance"
      ],
      "metadata": {
        "colab": {
          "base_uri": "https://localhost:8080/"
        },
        "id": "LOt8kvfRhlTv",
        "outputId": "3adbe164-65a5-4a79-b76b-35acd40cdbd2"
      },
      "execution_count": 46,
      "outputs": [
        {
          "output_type": "execute_result",
          "data": {
            "text/plain": [
              "[0, 1, 7, 2, 13, 3, 10, 11, 8, 17]"
            ]
          },
          "metadata": {},
          "execution_count": 46
        }
      ]
    },
    {
      "cell_type": "code",
      "source": [
        "X_train_10_importance = X_train.iloc[:, top_10_importance]\n",
        "X_valid_10_importance = X_valid.iloc[:, top_10_importance]\n",
        "X_test_10_importance = X_test.iloc[:, top_10_importance]"
      ],
      "metadata": {
        "id": "ohx84kQ5htnK"
      },
      "execution_count": 47,
      "outputs": []
    },
    {
      "cell_type": "code",
      "source": [
        "lasso_cv = LassoCV(cv=10)\n",
        "lasso_cv.fit(X_train_10_importance, y_train)\n",
        "write_metrics(lasso_cv, 'X_train_10_importance', X_train_10_importance, X_valid_10_importance, X_test_10_importance)"
      ],
      "metadata": {
        "id": "nueXVLvMhvHT"
      },
      "execution_count": 48,
      "outputs": []
    },
    {
      "cell_type": "markdown",
      "source": [
        "## Импортируйте Shap, а также перестройте модель на основе 10 основных признаков."
      ],
      "metadata": {
        "id": "fHiQS_sFRPI_"
      }
    },
    {
      "cell_type": "code",
      "source": [
        "lasso_cv = LassoCV(cv=10)\n",
        "lasso_cv.fit(X_train, y_train)\n",
        "explainer = shap.Explainer(lasso_cv, X_train)\n",
        "shap_values = explainer(X_train)"
      ],
      "metadata": {
        "id": "l7EXIgihRTXM"
      },
      "execution_count": 49,
      "outputs": []
    },
    {
      "cell_type": "code",
      "source": [
        "importance_values = np.abs(shap_values.values).mean(axis=0)\n",
        "top_10_snap = np.argsort(importance_values)[::-1][:10].tolist()\n",
        "top_10_snap"
      ],
      "metadata": {
        "colab": {
          "base_uri": "https://localhost:8080/"
        },
        "id": "rwnn_Xjoh2ga",
        "outputId": "b4e1e170-884f-41e3-8205-dcc92a54c3a5"
      },
      "execution_count": 50,
      "outputs": [
        {
          "output_type": "execute_result",
          "data": {
            "text/plain": [
              "[0, 1, 7, 2, 13, 3, 10, 11, 8, 4]"
            ]
          },
          "metadata": {},
          "execution_count": 50
        }
      ]
    },
    {
      "cell_type": "code",
      "source": [
        "X_train_10_snap = X_train.iloc[:, top_10_snap]\n",
        "X_valid_10_snap = X_valid.iloc[:, top_10_snap]\n",
        "X_test_10_snap = X_test.iloc[:, top_10_snap]"
      ],
      "metadata": {
        "id": "2GmkEQDIh3gP"
      },
      "execution_count": 51,
      "outputs": []
    },
    {
      "cell_type": "code",
      "source": [
        "lasso_cv = LassoCV(cv=10)\n",
        "lasso_cv.fit(X_train_10_snap, y_train)\n",
        "write_metrics(lasso_cv, 'X_train_10_snap', X_train_10_snap, X_valid_10_snap, X_test_10_snap)"
      ],
      "metadata": {
        "id": "VuSWn785h5NQ"
      },
      "execution_count": 52,
      "outputs": []
    },
    {
      "cell_type": "markdown",
      "source": [
        "## Сравните качество этих методов с точки зрения различных аспектов — скорости, показателей и стабильности."
      ],
      "metadata": {
        "id": "lg-5jgZZRTvr"
      }
    },
    {
      "cell_type": "code",
      "source": [
        "print(metrics)"
      ],
      "metadata": {
        "id": "3p4juDZPRWIu",
        "colab": {
          "base_uri": "https://localhost:8080/"
        },
        "outputId": "2c506456-bd83-431e-94c9-3d158ff2fbd5"
      },
      "execution_count": 53,
      "outputs": [
        {
          "output_type": "stream",
          "name": "stdout",
          "text": [
            "                      name DS_name        R2         MAE         RMSE\n",
            "0            lasso_default   train  0.603749  681.920140   993.645153\n",
            "1            lasso_default   valid  0.619118  683.922809   995.992775\n",
            "2            lasso_default    test  0.591943  694.276119  1008.083576\n",
            "3        X_train_10_weight   train  0.600161  684.848289   998.133997\n",
            "4        X_train_10_weight   valid  0.614983  687.842610  1001.385659\n",
            "5        X_train_10_weight    test  0.587363  697.708778  1013.724763\n",
            "6   X_train_10_correlation   train  0.571026  710.923084  1033.859890\n",
            "7   X_train_10_correlation   valid  0.582163  720.474016  1043.193529\n",
            "8   X_train_10_correlation    test  0.552046  732.899287  1056.215368\n",
            "9    X_train_10_importance   train  0.600060  684.400410   998.259602\n",
            "10   X_train_10_importance   valid  0.614722  686.883493  1001.724112\n",
            "11   X_train_10_importance    test  0.587072  697.032457  1014.082178\n",
            "12         X_train_10_snap   train  0.599060  685.891285   999.506703\n",
            "13         X_train_10_snap   valid  0.614239  687.308995  1002.352189\n",
            "14         X_train_10_snap    test  0.587071  696.615633  1014.082924\n"
          ]
        }
      ]
    },
    {
      "cell_type": "code",
      "source": [
        "print(metrics.sort_values(by= ['R2', 'RMSE', 'MAE'], ascending=[False, True, True]))"
      ],
      "metadata": {
        "colab": {
          "base_uri": "https://localhost:8080/"
        },
        "id": "76MOCk7bh9tm",
        "outputId": "2c4ef590-63ce-4365-f3b5-4bc2681b750a"
      },
      "execution_count": 54,
      "outputs": [
        {
          "output_type": "stream",
          "name": "stdout",
          "text": [
            "                      name DS_name        R2         MAE         RMSE\n",
            "1            lasso_default   valid  0.619118  683.922809   995.992775\n",
            "4        X_train_10_weight   valid  0.614983  687.842610  1001.385659\n",
            "10   X_train_10_importance   valid  0.614722  686.883493  1001.724112\n",
            "13         X_train_10_snap   valid  0.614239  687.308995  1002.352189\n",
            "0            lasso_default   train  0.603749  681.920140   993.645153\n",
            "3        X_train_10_weight   train  0.600161  684.848289   998.133997\n",
            "9    X_train_10_importance   train  0.600060  684.400410   998.259602\n",
            "12         X_train_10_snap   train  0.599060  685.891285   999.506703\n",
            "2            lasso_default    test  0.591943  694.276119  1008.083576\n",
            "5        X_train_10_weight    test  0.587363  697.708778  1013.724763\n",
            "11   X_train_10_importance    test  0.587072  697.032457  1014.082178\n",
            "14         X_train_10_snap    test  0.587071  696.615633  1014.082924\n",
            "7   X_train_10_correlation   valid  0.582163  720.474016  1043.193529\n",
            "6   X_train_10_correlation   train  0.571026  710.923084  1033.859890\n",
            "8   X_train_10_correlation    test  0.552046  732.899287  1056.215368\n"
          ]
        }
      ]
    },
    {
      "cell_type": "markdown",
      "source": [
        "# 7 Оптимизация гиперпараметров"
      ],
      "metadata": {
        "id": "_2-R-XZaRWuI"
      }
    },
    {
      "cell_type": "markdown",
      "source": [
        "## Реализуйте методы поиска по сетке и случайного поиска для параметров alpha и l1_ratio в модели ElasticNet от sklearn."
      ],
      "metadata": {
        "id": "2W8GTpl2RZg6"
      }
    },
    {
      "cell_type": "code",
      "source": [
        "params = {\n",
        "    'alpha': np.logspace(-2, 0, 50),  # логарифмический масштаб для alpha\n",
        "    'l1_ratio': np.linspace(0.1, 1.0, 10)  # более широкий диапазон для l1_ratio\n",
        "}\n",
        "\n",
        "model = ElasticNet(random_state=21)\n",
        "grid = GridSearchCV(model, param_grid=params, cv=10, n_jobs=-1)\n",
        "grid.fit(X_train, y_train)\n",
        "print(grid.best_params_)"
      ],
      "metadata": {
        "id": "lC8iFwT8RZDu",
        "colab": {
          "base_uri": "https://localhost:8080/"
        },
        "outputId": "8c46278c-0782-48a3-c0aa-f5407b1cf338"
      },
      "execution_count": 55,
      "outputs": [
        {
          "output_type": "stream",
          "name": "stdout",
          "text": [
            "{'alpha': np.float64(0.29470517025518095), 'l1_ratio': np.float64(1.0)}\n"
          ]
        }
      ]
    },
    {
      "cell_type": "markdown",
      "source": [
        "## Найдите наилучшее сочетание гиперпараметров модели."
      ],
      "metadata": {
        "id": "UJYFjuH4RePi"
      }
    },
    {
      "cell_type": "code",
      "source": [
        "random_search = RandomizedSearchCV(model, param_distributions=params, cv=10)\n",
        "random_search.fit(X_train, y_train)\n",
        "print(random_search.best_params_)"
      ],
      "metadata": {
        "id": "IM2qTSD8Rh3T",
        "colab": {
          "base_uri": "https://localhost:8080/"
        },
        "outputId": "229b070d-a0ec-4b8d-df20-97e95f3419ee"
      },
      "execution_count": 56,
      "outputs": [
        {
          "output_type": "stream",
          "name": "stdout",
          "text": [
            "{'l1_ratio': np.float64(1.0), 'alpha': np.float64(0.030888435964774818)}\n"
          ]
        }
      ]
    },
    {
      "cell_type": "markdown",
      "source": [
        "## Подогнать получившуюся модель."
      ],
      "metadata": {
        "id": "VL9IytO1RiOg"
      }
    },
    {
      "cell_type": "code",
      "source": [
        "best_grid = grid.best_estimator_\n",
        "write_metrics(best_grid, 'GridSearchCV', X_train, X_valid, X_test)"
      ],
      "metadata": {
        "id": "o5NX5yj9RkIY"
      },
      "execution_count": 57,
      "outputs": []
    },
    {
      "cell_type": "code",
      "source": [
        "best_random = random_search.best_estimator_\n",
        "write_metrics(best_random, 'RandomizedSearchCV', X_train, X_valid, X_test)"
      ],
      "metadata": {
        "id": "UwGNA0rYiJrA"
      },
      "execution_count": 58,
      "outputs": []
    },
    {
      "cell_type": "markdown",
      "source": [
        "## Импортируйте optuna и настройте тот же эксперимент с ElasticNet. Запустите optuna по одной из схем перекрестной проверки."
      ],
      "metadata": {
        "id": "ofLAFydbRkw7"
      }
    },
    {
      "cell_type": "code",
      "source": [
        "def objective(trial):\n",
        "    alpha = trial.suggest_float('alpha', 1e-5, 1e1, log=True)\n",
        "    l1_ratio = trial.suggest_float('l1_ratio', 0.0, 1.0)\n",
        "\n",
        "    optuna_model = ElasticNet(alpha=alpha, l1_ratio=l1_ratio, random_state=21)\n",
        "    score = cross_val_score(optuna_model, X_train, y_train, cv=10, scoring='r2').mean()\n",
        "\n",
        "    return score\n",
        "\n",
        "logging.getLogger('optuna').setLevel(logging.WARNING)\n",
        "study = optuna.create_study(direction='maximize')\n",
        "study.optimize(objective, n_trials=100, show_progress_bar=True)\n",
        "\n",
        "print(study.best_params)"
      ],
      "metadata": {
        "id": "2sRygFWzRm2r",
        "colab": {
          "base_uri": "https://localhost:8080/",
          "height": 66,
          "referenced_widgets": [
            "fb6207d841f34d22b7d0c99125c31985",
            "5f4f61fe8e294b52b9ba0dfd2f640e47",
            "17ab44153dcb4296bd5f67535cfef2a3",
            "00ba357c75aa4aef9ff0039777b954e6",
            "f99aa1111a1d4e25b2a20741ba5f398a",
            "3a99e40c23ec4a58924ace2ce23e70cd",
            "15c15bfa042b4f2e80d19fddb19cef05",
            "89222c3d2dc5422d8eefb3b744c90575",
            "4fa9fd86e7b249188278d6f0100fb719",
            "f412ec52efe948efa05c57144114e3e8",
            "cf2ae320d9f84a35be701a333cd81b88"
          ]
        },
        "outputId": "06daeb8f-3d19-45be-80b8-bed4309781d7"
      },
      "execution_count": 59,
      "outputs": [
        {
          "output_type": "display_data",
          "data": {
            "text/plain": [
              "  0%|          | 0/100 [00:00<?, ?it/s]"
            ],
            "application/vnd.jupyter.widget-view+json": {
              "version_major": 2,
              "version_minor": 0,
              "model_id": "fb6207d841f34d22b7d0c99125c31985"
            }
          },
          "metadata": {}
        },
        {
          "output_type": "stream",
          "name": "stdout",
          "text": [
            "{'alpha': 0.0021897877478881033, 'l1_ratio': 0.5643704355762649}\n"
          ]
        }
      ]
    },
    {
      "cell_type": "code",
      "source": [
        "opt_model = ElasticNet(random_state=21, alpha=study.best_params['alpha'], l1_ratio=study.best_params['l1_ratio'])\n",
        "write_metrics(best_random, 'Optuna', X_train, X_valid, X_test)"
      ],
      "metadata": {
        "id": "ZL1VwBMViP2n"
      },
      "execution_count": 60,
      "outputs": []
    },
    {
      "cell_type": "markdown",
      "source": [
        "## Оцените показатели и сравните подходы."
      ],
      "metadata": {
        "id": "TVOmdgg7RnMk"
      }
    },
    {
      "cell_type": "code",
      "source": [
        "print(metrics.iloc[-9:, :])"
      ],
      "metadata": {
        "id": "41Lh7ANQRrKS",
        "colab": {
          "base_uri": "https://localhost:8080/"
        },
        "outputId": "eaf31f1b-c030-4e07-bfc8-a1ce77845253"
      },
      "execution_count": 61,
      "outputs": [
        {
          "output_type": "stream",
          "name": "stdout",
          "text": [
            "                  name DS_name        R2         MAE         RMSE\n",
            "15        GridSearchCV   train  0.603876  682.245074   993.485985\n",
            "16        GridSearchCV   valid  0.619238  684.286567   995.835770\n",
            "17        GridSearchCV    test  0.592073  694.596368  1007.922898\n",
            "18  RandomizedSearchCV   train  0.603889  682.421555   993.469281\n",
            "19  RandomizedSearchCV   valid  0.619246  684.494382   995.825410\n",
            "20  RandomizedSearchCV    test  0.592086  694.789712  1007.906592\n",
            "21              Optuna   train  0.603889  682.421555   993.469281\n",
            "22              Optuna   valid  0.619246  684.494382   995.825410\n",
            "23              Optuna    test  0.592086  694.789712  1007.906592\n"
          ]
        }
      ]
    },
    {
      "cell_type": "code",
      "source": [
        "metrics.sort_values(by= ['R2', 'RMSE', 'MAE'], ascending=[False, True, True])"
      ],
      "metadata": {
        "colab": {
          "base_uri": "https://localhost:8080/",
          "height": 802
        },
        "id": "8KCvn-dcTZaY",
        "outputId": "8782f066-94f9-47bd-8bf0-601c6b9e5585"
      },
      "execution_count": 62,
      "outputs": [
        {
          "output_type": "execute_result",
          "data": {
            "text/plain": [
              "                      name DS_name        R2         MAE         RMSE\n",
              "19      RandomizedSearchCV   valid  0.619246  684.494382   995.825410\n",
              "22                  Optuna   valid  0.619246  684.494382   995.825410\n",
              "16            GridSearchCV   valid  0.619238  684.286567   995.835770\n",
              "1            lasso_default   valid  0.619118  683.922809   995.992775\n",
              "4        X_train_10_weight   valid  0.614983  687.842610  1001.385659\n",
              "10   X_train_10_importance   valid  0.614722  686.883493  1001.724112\n",
              "13         X_train_10_snap   valid  0.614239  687.308995  1002.352189\n",
              "18      RandomizedSearchCV   train  0.603889  682.421555   993.469281\n",
              "21                  Optuna   train  0.603889  682.421555   993.469281\n",
              "15            GridSearchCV   train  0.603876  682.245074   993.485985\n",
              "0            lasso_default   train  0.603749  681.920140   993.645153\n",
              "3        X_train_10_weight   train  0.600161  684.848289   998.133997\n",
              "9    X_train_10_importance   train  0.600060  684.400410   998.259602\n",
              "12         X_train_10_snap   train  0.599060  685.891285   999.506703\n",
              "20      RandomizedSearchCV    test  0.592086  694.789712  1007.906592\n",
              "23                  Optuna    test  0.592086  694.789712  1007.906592\n",
              "17            GridSearchCV    test  0.592073  694.596368  1007.922898\n",
              "2            lasso_default    test  0.591943  694.276119  1008.083576\n",
              "5        X_train_10_weight    test  0.587363  697.708778  1013.724763\n",
              "11   X_train_10_importance    test  0.587072  697.032457  1014.082178\n",
              "14         X_train_10_snap    test  0.587071  696.615633  1014.082924\n",
              "7   X_train_10_correlation   valid  0.582163  720.474016  1043.193529\n",
              "6   X_train_10_correlation   train  0.571026  710.923084  1033.859890\n",
              "8   X_train_10_correlation    test  0.552046  732.899287  1056.215368"
            ],
            "text/html": [
              "\n",
              "  <div id=\"df-ed503246-ccb1-4942-8bf2-9e8efe174e51\" class=\"colab-df-container\">\n",
              "    <div>\n",
              "<style scoped>\n",
              "    .dataframe tbody tr th:only-of-type {\n",
              "        vertical-align: middle;\n",
              "    }\n",
              "\n",
              "    .dataframe tbody tr th {\n",
              "        vertical-align: top;\n",
              "    }\n",
              "\n",
              "    .dataframe thead th {\n",
              "        text-align: right;\n",
              "    }\n",
              "</style>\n",
              "<table border=\"1\" class=\"dataframe\">\n",
              "  <thead>\n",
              "    <tr style=\"text-align: right;\">\n",
              "      <th></th>\n",
              "      <th>name</th>\n",
              "      <th>DS_name</th>\n",
              "      <th>R2</th>\n",
              "      <th>MAE</th>\n",
              "      <th>RMSE</th>\n",
              "    </tr>\n",
              "  </thead>\n",
              "  <tbody>\n",
              "    <tr>\n",
              "      <th>19</th>\n",
              "      <td>RandomizedSearchCV</td>\n",
              "      <td>valid</td>\n",
              "      <td>0.619246</td>\n",
              "      <td>684.494382</td>\n",
              "      <td>995.825410</td>\n",
              "    </tr>\n",
              "    <tr>\n",
              "      <th>22</th>\n",
              "      <td>Optuna</td>\n",
              "      <td>valid</td>\n",
              "      <td>0.619246</td>\n",
              "      <td>684.494382</td>\n",
              "      <td>995.825410</td>\n",
              "    </tr>\n",
              "    <tr>\n",
              "      <th>16</th>\n",
              "      <td>GridSearchCV</td>\n",
              "      <td>valid</td>\n",
              "      <td>0.619238</td>\n",
              "      <td>684.286567</td>\n",
              "      <td>995.835770</td>\n",
              "    </tr>\n",
              "    <tr>\n",
              "      <th>1</th>\n",
              "      <td>lasso_default</td>\n",
              "      <td>valid</td>\n",
              "      <td>0.619118</td>\n",
              "      <td>683.922809</td>\n",
              "      <td>995.992775</td>\n",
              "    </tr>\n",
              "    <tr>\n",
              "      <th>4</th>\n",
              "      <td>X_train_10_weight</td>\n",
              "      <td>valid</td>\n",
              "      <td>0.614983</td>\n",
              "      <td>687.842610</td>\n",
              "      <td>1001.385659</td>\n",
              "    </tr>\n",
              "    <tr>\n",
              "      <th>10</th>\n",
              "      <td>X_train_10_importance</td>\n",
              "      <td>valid</td>\n",
              "      <td>0.614722</td>\n",
              "      <td>686.883493</td>\n",
              "      <td>1001.724112</td>\n",
              "    </tr>\n",
              "    <tr>\n",
              "      <th>13</th>\n",
              "      <td>X_train_10_snap</td>\n",
              "      <td>valid</td>\n",
              "      <td>0.614239</td>\n",
              "      <td>687.308995</td>\n",
              "      <td>1002.352189</td>\n",
              "    </tr>\n",
              "    <tr>\n",
              "      <th>18</th>\n",
              "      <td>RandomizedSearchCV</td>\n",
              "      <td>train</td>\n",
              "      <td>0.603889</td>\n",
              "      <td>682.421555</td>\n",
              "      <td>993.469281</td>\n",
              "    </tr>\n",
              "    <tr>\n",
              "      <th>21</th>\n",
              "      <td>Optuna</td>\n",
              "      <td>train</td>\n",
              "      <td>0.603889</td>\n",
              "      <td>682.421555</td>\n",
              "      <td>993.469281</td>\n",
              "    </tr>\n",
              "    <tr>\n",
              "      <th>15</th>\n",
              "      <td>GridSearchCV</td>\n",
              "      <td>train</td>\n",
              "      <td>0.603876</td>\n",
              "      <td>682.245074</td>\n",
              "      <td>993.485985</td>\n",
              "    </tr>\n",
              "    <tr>\n",
              "      <th>0</th>\n",
              "      <td>lasso_default</td>\n",
              "      <td>train</td>\n",
              "      <td>0.603749</td>\n",
              "      <td>681.920140</td>\n",
              "      <td>993.645153</td>\n",
              "    </tr>\n",
              "    <tr>\n",
              "      <th>3</th>\n",
              "      <td>X_train_10_weight</td>\n",
              "      <td>train</td>\n",
              "      <td>0.600161</td>\n",
              "      <td>684.848289</td>\n",
              "      <td>998.133997</td>\n",
              "    </tr>\n",
              "    <tr>\n",
              "      <th>9</th>\n",
              "      <td>X_train_10_importance</td>\n",
              "      <td>train</td>\n",
              "      <td>0.600060</td>\n",
              "      <td>684.400410</td>\n",
              "      <td>998.259602</td>\n",
              "    </tr>\n",
              "    <tr>\n",
              "      <th>12</th>\n",
              "      <td>X_train_10_snap</td>\n",
              "      <td>train</td>\n",
              "      <td>0.599060</td>\n",
              "      <td>685.891285</td>\n",
              "      <td>999.506703</td>\n",
              "    </tr>\n",
              "    <tr>\n",
              "      <th>20</th>\n",
              "      <td>RandomizedSearchCV</td>\n",
              "      <td>test</td>\n",
              "      <td>0.592086</td>\n",
              "      <td>694.789712</td>\n",
              "      <td>1007.906592</td>\n",
              "    </tr>\n",
              "    <tr>\n",
              "      <th>23</th>\n",
              "      <td>Optuna</td>\n",
              "      <td>test</td>\n",
              "      <td>0.592086</td>\n",
              "      <td>694.789712</td>\n",
              "      <td>1007.906592</td>\n",
              "    </tr>\n",
              "    <tr>\n",
              "      <th>17</th>\n",
              "      <td>GridSearchCV</td>\n",
              "      <td>test</td>\n",
              "      <td>0.592073</td>\n",
              "      <td>694.596368</td>\n",
              "      <td>1007.922898</td>\n",
              "    </tr>\n",
              "    <tr>\n",
              "      <th>2</th>\n",
              "      <td>lasso_default</td>\n",
              "      <td>test</td>\n",
              "      <td>0.591943</td>\n",
              "      <td>694.276119</td>\n",
              "      <td>1008.083576</td>\n",
              "    </tr>\n",
              "    <tr>\n",
              "      <th>5</th>\n",
              "      <td>X_train_10_weight</td>\n",
              "      <td>test</td>\n",
              "      <td>0.587363</td>\n",
              "      <td>697.708778</td>\n",
              "      <td>1013.724763</td>\n",
              "    </tr>\n",
              "    <tr>\n",
              "      <th>11</th>\n",
              "      <td>X_train_10_importance</td>\n",
              "      <td>test</td>\n",
              "      <td>0.587072</td>\n",
              "      <td>697.032457</td>\n",
              "      <td>1014.082178</td>\n",
              "    </tr>\n",
              "    <tr>\n",
              "      <th>14</th>\n",
              "      <td>X_train_10_snap</td>\n",
              "      <td>test</td>\n",
              "      <td>0.587071</td>\n",
              "      <td>696.615633</td>\n",
              "      <td>1014.082924</td>\n",
              "    </tr>\n",
              "    <tr>\n",
              "      <th>7</th>\n",
              "      <td>X_train_10_correlation</td>\n",
              "      <td>valid</td>\n",
              "      <td>0.582163</td>\n",
              "      <td>720.474016</td>\n",
              "      <td>1043.193529</td>\n",
              "    </tr>\n",
              "    <tr>\n",
              "      <th>6</th>\n",
              "      <td>X_train_10_correlation</td>\n",
              "      <td>train</td>\n",
              "      <td>0.571026</td>\n",
              "      <td>710.923084</td>\n",
              "      <td>1033.859890</td>\n",
              "    </tr>\n",
              "    <tr>\n",
              "      <th>8</th>\n",
              "      <td>X_train_10_correlation</td>\n",
              "      <td>test</td>\n",
              "      <td>0.552046</td>\n",
              "      <td>732.899287</td>\n",
              "      <td>1056.215368</td>\n",
              "    </tr>\n",
              "  </tbody>\n",
              "</table>\n",
              "</div>\n",
              "    <div class=\"colab-df-buttons\">\n",
              "\n",
              "  <div class=\"colab-df-container\">\n",
              "    <button class=\"colab-df-convert\" onclick=\"convertToInteractive('df-ed503246-ccb1-4942-8bf2-9e8efe174e51')\"\n",
              "            title=\"Convert this dataframe to an interactive table.\"\n",
              "            style=\"display:none;\">\n",
              "\n",
              "  <svg xmlns=\"http://www.w3.org/2000/svg\" height=\"24px\" viewBox=\"0 -960 960 960\">\n",
              "    <path d=\"M120-120v-720h720v720H120Zm60-500h600v-160H180v160Zm220 220h160v-160H400v160Zm0 220h160v-160H400v160ZM180-400h160v-160H180v160Zm440 0h160v-160H620v160ZM180-180h160v-160H180v160Zm440 0h160v-160H620v160Z\"/>\n",
              "  </svg>\n",
              "    </button>\n",
              "\n",
              "  <style>\n",
              "    .colab-df-container {\n",
              "      display:flex;\n",
              "      gap: 12px;\n",
              "    }\n",
              "\n",
              "    .colab-df-convert {\n",
              "      background-color: #E8F0FE;\n",
              "      border: none;\n",
              "      border-radius: 50%;\n",
              "      cursor: pointer;\n",
              "      display: none;\n",
              "      fill: #1967D2;\n",
              "      height: 32px;\n",
              "      padding: 0 0 0 0;\n",
              "      width: 32px;\n",
              "    }\n",
              "\n",
              "    .colab-df-convert:hover {\n",
              "      background-color: #E2EBFA;\n",
              "      box-shadow: 0px 1px 2px rgba(60, 64, 67, 0.3), 0px 1px 3px 1px rgba(60, 64, 67, 0.15);\n",
              "      fill: #174EA6;\n",
              "    }\n",
              "\n",
              "    .colab-df-buttons div {\n",
              "      margin-bottom: 4px;\n",
              "    }\n",
              "\n",
              "    [theme=dark] .colab-df-convert {\n",
              "      background-color: #3B4455;\n",
              "      fill: #D2E3FC;\n",
              "    }\n",
              "\n",
              "    [theme=dark] .colab-df-convert:hover {\n",
              "      background-color: #434B5C;\n",
              "      box-shadow: 0px 1px 3px 1px rgba(0, 0, 0, 0.15);\n",
              "      filter: drop-shadow(0px 1px 2px rgba(0, 0, 0, 0.3));\n",
              "      fill: #FFFFFF;\n",
              "    }\n",
              "  </style>\n",
              "\n",
              "    <script>\n",
              "      const buttonEl =\n",
              "        document.querySelector('#df-ed503246-ccb1-4942-8bf2-9e8efe174e51 button.colab-df-convert');\n",
              "      buttonEl.style.display =\n",
              "        google.colab.kernel.accessAllowed ? 'block' : 'none';\n",
              "\n",
              "      async function convertToInteractive(key) {\n",
              "        const element = document.querySelector('#df-ed503246-ccb1-4942-8bf2-9e8efe174e51');\n",
              "        const dataTable =\n",
              "          await google.colab.kernel.invokeFunction('convertToInteractive',\n",
              "                                                    [key], {});\n",
              "        if (!dataTable) return;\n",
              "\n",
              "        const docLinkHtml = 'Like what you see? Visit the ' +\n",
              "          '<a target=\"_blank\" href=https://colab.research.google.com/notebooks/data_table.ipynb>data table notebook</a>'\n",
              "          + ' to learn more about interactive tables.';\n",
              "        element.innerHTML = '';\n",
              "        dataTable['output_type'] = 'display_data';\n",
              "        await google.colab.output.renderOutput(dataTable, element);\n",
              "        const docLink = document.createElement('div');\n",
              "        docLink.innerHTML = docLinkHtml;\n",
              "        element.appendChild(docLink);\n",
              "      }\n",
              "    </script>\n",
              "  </div>\n",
              "\n",
              "\n",
              "    <div id=\"df-8f5cd55d-d784-40e1-8789-bb17060f4da1\">\n",
              "      <button class=\"colab-df-quickchart\" onclick=\"quickchart('df-8f5cd55d-d784-40e1-8789-bb17060f4da1')\"\n",
              "                title=\"Suggest charts\"\n",
              "                style=\"display:none;\">\n",
              "\n",
              "<svg xmlns=\"http://www.w3.org/2000/svg\" height=\"24px\"viewBox=\"0 0 24 24\"\n",
              "     width=\"24px\">\n",
              "    <g>\n",
              "        <path d=\"M19 3H5c-1.1 0-2 .9-2 2v14c0 1.1.9 2 2 2h14c1.1 0 2-.9 2-2V5c0-1.1-.9-2-2-2zM9 17H7v-7h2v7zm4 0h-2V7h2v10zm4 0h-2v-4h2v4z\"/>\n",
              "    </g>\n",
              "</svg>\n",
              "      </button>\n",
              "\n",
              "<style>\n",
              "  .colab-df-quickchart {\n",
              "      --bg-color: #E8F0FE;\n",
              "      --fill-color: #1967D2;\n",
              "      --hover-bg-color: #E2EBFA;\n",
              "      --hover-fill-color: #174EA6;\n",
              "      --disabled-fill-color: #AAA;\n",
              "      --disabled-bg-color: #DDD;\n",
              "  }\n",
              "\n",
              "  [theme=dark] .colab-df-quickchart {\n",
              "      --bg-color: #3B4455;\n",
              "      --fill-color: #D2E3FC;\n",
              "      --hover-bg-color: #434B5C;\n",
              "      --hover-fill-color: #FFFFFF;\n",
              "      --disabled-bg-color: #3B4455;\n",
              "      --disabled-fill-color: #666;\n",
              "  }\n",
              "\n",
              "  .colab-df-quickchart {\n",
              "    background-color: var(--bg-color);\n",
              "    border: none;\n",
              "    border-radius: 50%;\n",
              "    cursor: pointer;\n",
              "    display: none;\n",
              "    fill: var(--fill-color);\n",
              "    height: 32px;\n",
              "    padding: 0;\n",
              "    width: 32px;\n",
              "  }\n",
              "\n",
              "  .colab-df-quickchart:hover {\n",
              "    background-color: var(--hover-bg-color);\n",
              "    box-shadow: 0 1px 2px rgba(60, 64, 67, 0.3), 0 1px 3px 1px rgba(60, 64, 67, 0.15);\n",
              "    fill: var(--button-hover-fill-color);\n",
              "  }\n",
              "\n",
              "  .colab-df-quickchart-complete:disabled,\n",
              "  .colab-df-quickchart-complete:disabled:hover {\n",
              "    background-color: var(--disabled-bg-color);\n",
              "    fill: var(--disabled-fill-color);\n",
              "    box-shadow: none;\n",
              "  }\n",
              "\n",
              "  .colab-df-spinner {\n",
              "    border: 2px solid var(--fill-color);\n",
              "    border-color: transparent;\n",
              "    border-bottom-color: var(--fill-color);\n",
              "    animation:\n",
              "      spin 1s steps(1) infinite;\n",
              "  }\n",
              "\n",
              "  @keyframes spin {\n",
              "    0% {\n",
              "      border-color: transparent;\n",
              "      border-bottom-color: var(--fill-color);\n",
              "      border-left-color: var(--fill-color);\n",
              "    }\n",
              "    20% {\n",
              "      border-color: transparent;\n",
              "      border-left-color: var(--fill-color);\n",
              "      border-top-color: var(--fill-color);\n",
              "    }\n",
              "    30% {\n",
              "      border-color: transparent;\n",
              "      border-left-color: var(--fill-color);\n",
              "      border-top-color: var(--fill-color);\n",
              "      border-right-color: var(--fill-color);\n",
              "    }\n",
              "    40% {\n",
              "      border-color: transparent;\n",
              "      border-right-color: var(--fill-color);\n",
              "      border-top-color: var(--fill-color);\n",
              "    }\n",
              "    60% {\n",
              "      border-color: transparent;\n",
              "      border-right-color: var(--fill-color);\n",
              "    }\n",
              "    80% {\n",
              "      border-color: transparent;\n",
              "      border-right-color: var(--fill-color);\n",
              "      border-bottom-color: var(--fill-color);\n",
              "    }\n",
              "    90% {\n",
              "      border-color: transparent;\n",
              "      border-bottom-color: var(--fill-color);\n",
              "    }\n",
              "  }\n",
              "</style>\n",
              "\n",
              "      <script>\n",
              "        async function quickchart(key) {\n",
              "          const quickchartButtonEl =\n",
              "            document.querySelector('#' + key + ' button');\n",
              "          quickchartButtonEl.disabled = true;  // To prevent multiple clicks.\n",
              "          quickchartButtonEl.classList.add('colab-df-spinner');\n",
              "          try {\n",
              "            const charts = await google.colab.kernel.invokeFunction(\n",
              "                'suggestCharts', [key], {});\n",
              "          } catch (error) {\n",
              "            console.error('Error during call to suggestCharts:', error);\n",
              "          }\n",
              "          quickchartButtonEl.classList.remove('colab-df-spinner');\n",
              "          quickchartButtonEl.classList.add('colab-df-quickchart-complete');\n",
              "        }\n",
              "        (() => {\n",
              "          let quickchartButtonEl =\n",
              "            document.querySelector('#df-8f5cd55d-d784-40e1-8789-bb17060f4da1 button');\n",
              "          quickchartButtonEl.style.display =\n",
              "            google.colab.kernel.accessAllowed ? 'block' : 'none';\n",
              "        })();\n",
              "      </script>\n",
              "    </div>\n",
              "    </div>\n",
              "  </div>\n"
            ],
            "application/vnd.google.colaboratory.intrinsic+json": {
              "type": "dataframe",
              "summary": "{\n  \"name\": \"metrics\",\n  \"rows\": 24,\n  \"fields\": [\n    {\n      \"column\": \"name\",\n      \"properties\": {\n        \"dtype\": \"category\",\n        \"num_unique_values\": 8,\n        \"samples\": [\n          \"Optuna\",\n          \"X_train_10_importance\",\n          \"RandomizedSearchCV\"\n        ],\n        \"semantic_type\": \"\",\n        \"description\": \"\"\n      }\n    },\n    {\n      \"column\": \"DS_name\",\n      \"properties\": {\n        \"dtype\": \"category\",\n        \"num_unique_values\": 3,\n        \"samples\": [\n          \"valid\",\n          \"train\",\n          \"test\"\n        ],\n        \"semantic_type\": \"\",\n        \"description\": \"\"\n      }\n    },\n    {\n      \"column\": \"R2\",\n      \"properties\": {\n        \"dtype\": \"number\",\n        \"std\": 0.01661382534619836,\n        \"min\": 0.5520463518903806,\n        \"max\": 0.6192463849550436,\n        \"num_unique_values\": 21,\n        \"samples\": [\n          0.6192463849550436,\n          0.5870713154548879,\n          0.5873629461342411\n        ],\n        \"semantic_type\": \"\",\n        \"description\": \"\"\n      }\n    },\n    {\n      \"column\": \"MAE\",\n      \"properties\": {\n        \"dtype\": \"number\",\n        \"std\": 12.809487515176103,\n        \"min\": 681.9201403356342,\n        \"max\": 732.8992867742437,\n        \"num_unique_values\": 21,\n        \"samples\": [\n          684.4943822353866,\n          696.6156327318414,\n          697.708778294119\n        ],\n        \"semantic_type\": \"\",\n        \"description\": \"\"\n      }\n    },\n    {\n      \"column\": \"RMSE\",\n      \"properties\": {\n        \"dtype\": \"number\",\n        \"std\": 16.308707467321515,\n        \"min\": 993.4692814233845,\n        \"max\": 1056.2153684131097,\n        \"num_unique_values\": 21,\n        \"samples\": [\n          995.8254095614922,\n          1014.0829241259684,\n          1013.72476309508\n        ],\n        \"semantic_type\": \"\",\n        \"description\": \"\"\n      }\n    }\n  ]\n}"
            }
          },
          "metadata": {},
          "execution_count": 62
        }
      ]
    },
    {
      "cell_type": "code",
      "source": [],
      "metadata": {
        "id": "BWEsvlX4_lH6"
      },
      "execution_count": 62,
      "outputs": []
    }
  ]
}